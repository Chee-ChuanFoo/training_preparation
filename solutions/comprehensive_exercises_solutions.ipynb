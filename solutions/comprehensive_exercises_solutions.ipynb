{
 "cells": [
  {
   "cell_type": "markdown",
   "id": "bc0f30dc",
   "metadata": {},
   "source": [
    "# Comprehensive Practice Exercises - SOLUTIONS\n",
    "\n",
    "This notebook contains complete solutions to all exercises.\n",
    "Try to complete the exercises on your own first before looking at these solutions!"
   ]
  },
  {
   "cell_type": "code",
   "execution_count": null,
   "id": "3d4839c0",
   "metadata": {},
   "outputs": [],
   "source": [
    "import pandas as pd\n",
    "import numpy as np\n",
    "import matplotlib.pyplot as plt\n",
    "import seaborn as sns\n",
    "\n",
    "print(\"✓ Libraries imported successfully!\")"
   ]
  },
  {
   "cell_type": "markdown",
   "id": "e44410d9",
   "metadata": {},
   "source": [
    "## Exercise 1: Python Fundamentals (10 points)\n",
    "\n",
    "### Task A: Working with Lists"
   ]
  },
  {
   "cell_type": "code",
   "execution_count": null,
   "id": "bd1b61fa",
   "metadata": {},
   "outputs": [],
   "source": [
    "monthly_revenue = [18000, 22000, 19500, 25000, 21000, 23500, 26000, 24000, 22500, 27000, 29000, 31000]\n",
    "\n",
    "# Calculate statistics\n",
    "total_revenue = sum(monthly_revenue)\n",
    "average_revenue = total_revenue / len(monthly_revenue)\n",
    "highest_month = max(monthly_revenue)\n",
    "lowest_month = min(monthly_revenue)\n",
    "months_over_20k = len([rev for rev in monthly_revenue if rev > 20000])\n",
    "\n",
    "print(f\"Total Revenue: ${total_revenue:,}\")\n",
    "print(f\"Average Monthly Revenue: ${average_revenue:,.2f}\")\n",
    "print(f\"Highest Month: ${highest_month:,}\")\n",
    "print(f\"Lowest Month: ${lowest_month:,}\")\n",
    "print(f\"Months exceeding $20,000: {months_over_20k}\")"
   ]
  },
  {
   "cell_type": "markdown",
   "id": "700e1318",
   "metadata": {},
   "source": [
    "### Task B: Dictionary Operations"
   ]
  },
  {
   "cell_type": "code",
   "execution_count": null,
   "id": "e134278f",
   "metadata": {},
   "outputs": [],
   "source": [
    "product = {\n",
    "    'name': 'Wireless Mouse',\n",
    "    'price': 29.99,\n",
    "    'quantity': 150,\n",
    "    'category': 'Electronics'\n",
    "}\n",
    "\n",
    "# Calculate total value\n",
    "total_value = product['price'] * product['quantity']\n",
    "print(f\"Product: {product['name']}\")\n",
    "print(f\"Price: ${product['price']}\")\n",
    "print(f\"Quantity: {product['quantity']}\")\n",
    "print(f\"Total Value: ${total_value:,.2f}\")"
   ]
  },
  {
   "cell_type": "markdown",
   "id": "c340ea6b",
   "metadata": {},
   "source": [
    "## Exercise 2: Loading and Exploring Data (10 points)"
   ]
  },
  {
   "cell_type": "code",
   "execution_count": null,
   "id": "2626edc0",
   "metadata": {},
   "outputs": [],
   "source": [
    "# Load the data\n",
    "df_sales = pd.read_csv('../datasets/sales_data.csv', parse_dates=['date'])\n",
    "\n",
    "# 1. How many transactions?\n",
    "print(f\"1. Total transactions: {len(df_sales):,}\")\n",
    "\n",
    "# 2. Date range\n",
    "print(f\"2. Date range: {df_sales['date'].min().date()} to {df_sales['date'].max().date()}\")\n",
    "\n",
    "# 3. Unique customers\n",
    "print(f\"3. Unique customers: {df_sales['customer_id'].nunique():,}\")\n",
    "\n",
    "# 4. Top 3 payment methods\n",
    "top_payment = df_sales['payment_method'].value_counts().head(3)\n",
    "print(\"\\n4. Top 3 payment methods:\")\n",
    "for method, count in top_payment.items():\n",
    "    print(f\"   {method}: {count:,} transactions\")"
   ]
  },
  {
   "cell_type": "markdown",
   "id": "ecc60a0d",
   "metadata": {},
   "source": [
    "## Exercise 3: Filtering and Selection (15 points)"
   ]
  },
  {
   "cell_type": "code",
   "execution_count": null,
   "id": "25ae311b",
   "metadata": {},
   "outputs": [],
   "source": [
    "# 1. Transactions over $1,500\n",
    "high_value = df_sales[df_sales['total_amount'] > 1500]\n",
    "print(f\"1. Transactions over $1,500: {len(high_value):,}\")\n",
    "print(high_value[['transaction_id', 'total_amount', 'region']].head())"
   ]
  },
  {
   "cell_type": "code",
   "execution_count": null,
   "id": "63e1c304",
   "metadata": {},
   "outputs": [],
   "source": [
    "# 2. Transactions from North or South\n",
    "north_south = df_sales[df_sales['region'].isin(['North', 'South'])]\n",
    "print(f\"\\n2. Transactions from North or South: {len(north_south):,}\")\n",
    "print(north_south[['transaction_id', 'region', 'total_amount']].head())"
   ]
  },
  {
   "cell_type": "code",
   "execution_count": null,
   "id": "f4732d14",
   "metadata": {},
   "outputs": [],
   "source": [
    "# 3. Transactions over $1,000 AND from East\n",
    "east_high = df_sales[(df_sales['total_amount'] > 1000) & (df_sales['region'] == 'East')]\n",
    "print(f\"\\n3. East region transactions over $1,000: {len(east_high):,}\")\n",
    "print(east_high[['transaction_id', 'region', 'total_amount']].head())"
   ]
  },
  {
   "cell_type": "code",
   "execution_count": null,
   "id": "0910febb",
   "metadata": {},
   "outputs": [],
   "source": [
    "# 4. Select specific columns\n",
    "selected = df_sales[['date', 'region', 'total_amount']]\n",
    "print(\"\\n4. Selected columns:\")\n",
    "print(selected.head(10))"
   ]
  },
  {
   "cell_type": "markdown",
   "id": "d0685be6",
   "metadata": {},
   "source": [
    "## Exercise 4: Groupby and Aggregation (20 points)"
   ]
  },
  {
   "cell_type": "code",
   "execution_count": null,
   "id": "a26e7890",
   "metadata": {},
   "outputs": [],
   "source": [
    "# 1. Total sales by region\n",
    "region_totals = df_sales.groupby('region')['total_amount'].sum().sort_values(ascending=False)\n",
    "print(\"1. Total sales by region:\")\n",
    "for region, total in region_totals.items():\n",
    "    print(f\"   {region}: ${total:,.2f}\")"
   ]
  },
  {
   "cell_type": "code",
   "execution_count": null,
   "id": "b7546998",
   "metadata": {},
   "outputs": [],
   "source": [
    "# 2. Average transaction by payment method\n",
    "payment_avg = df_sales.groupby('payment_method')['total_amount'].mean().sort_values(ascending=False)\n",
    "print(\"\\n2. Average transaction by payment method:\")\n",
    "for method, avg in payment_avg.items():\n",
    "    print(f\"   {method}: ${avg:,.2f}\")"
   ]
  },
  {
   "cell_type": "code",
   "execution_count": null,
   "id": "12502791",
   "metadata": {},
   "outputs": [],
   "source": [
    "# 3. Transactions per sales rep\n",
    "rep_counts = df_sales.groupby('sales_rep').size().sort_values(ascending=False)\n",
    "print(\"\\n3. Transactions per sales representative:\")\n",
    "for rep, count in rep_counts.items():\n",
    "    print(f\"   {rep}: {count:,} transactions\")"
   ]
  },
  {
   "cell_type": "code",
   "execution_count": null,
   "id": "b6e7b911",
   "metadata": {},
   "outputs": [],
   "source": [
    "# 4. Summary by region\n",
    "region_summary = df_sales.groupby('region')['total_amount'].agg([\n",
    "    ('Total_Sales', 'sum'),\n",
    "    ('Avg_Sale', 'mean'),\n",
    "    ('Transaction_Count', 'count')\n",
    "]).round(2).sort_values('Total_Sales', ascending=False)\n",
    "\n",
    "print(\"\\n4. Regional summary:\")\n",
    "print(region_summary)"
   ]
  },
  {
   "cell_type": "markdown",
   "id": "f5314770",
   "metadata": {},
   "source": [
    "## Exercise 5: Data Visualization (20 points)"
   ]
  },
  {
   "cell_type": "code",
   "execution_count": null,
   "id": "2fec6d38",
   "metadata": {},
   "outputs": [],
   "source": [
    "# 1. Bar chart: Total sales by region\n",
    "plt.figure(figsize=(10, 6))\n",
    "region_totals = df_sales.groupby('region')['total_amount'].sum().sort_values(ascending=False)\n",
    "plt.bar(region_totals.index, region_totals.values, color='steelblue')\n",
    "plt.title('Total Sales by Region', fontsize=14, fontweight='bold')\n",
    "plt.xlabel('Region')\n",
    "plt.ylabel('Total Sales ($)')\n",
    "plt.xticks(rotation=45)\n",
    "plt.grid(axis='y', alpha=0.3)\n",
    "plt.tight_layout()\n",
    "plt.show()"
   ]
  },
  {
   "cell_type": "code",
   "execution_count": null,
   "id": "efa0014f",
   "metadata": {},
   "outputs": [],
   "source": [
    "# 2. Line chart: Daily sales trend\n",
    "plt.figure(figsize=(14, 6))\n",
    "daily_sales = df_sales.groupby('date')['total_amount'].sum().sort_index()\n",
    "plt.plot(daily_sales.index, daily_sales.values, linewidth=2, color='green')\n",
    "plt.title('Daily Sales Trend', fontsize=14, fontweight='bold')\n",
    "plt.xlabel('Date')\n",
    "plt.ylabel('Total Sales ($)')\n",
    "plt.xticks(rotation=45)\n",
    "plt.grid(True, alpha=0.3)\n",
    "plt.tight_layout()\n",
    "plt.show()"
   ]
  },
  {
   "cell_type": "code",
   "execution_count": null,
   "id": "7c05f67f",
   "metadata": {},
   "outputs": [],
   "source": [
    "# 3. Pie chart: Payment method distribution\n",
    "plt.figure(figsize=(10, 8))\n",
    "payment_counts = df_sales['payment_method'].value_counts()\n",
    "colors = ['#FF6B6B', '#4ECDC4', '#45B7D1', '#FFA07A', '#98D8C8']\n",
    "plt.pie(payment_counts.values, labels=payment_counts.index, autopct='%1.1f%%',\n",
    "        startangle=90, colors=colors)\n",
    "plt.title('Payment Method Distribution', fontsize=14, fontweight='bold')\n",
    "plt.axis('equal')\n",
    "plt.tight_layout()\n",
    "plt.show()"
   ]
  },
  {
   "cell_type": "code",
   "execution_count": null,
   "id": "cd9c8a63",
   "metadata": {},
   "outputs": [],
   "source": [
    "# 4. Histogram: Transaction amounts\n",
    "plt.figure(figsize=(10, 6))\n",
    "plt.hist(df_sales['total_amount'], bins=40, color='coral', edgecolor='black', alpha=0.7)\n",
    "plt.axvline(df_sales['total_amount'].mean(), color='red', linestyle='--', \n",
    "            linewidth=2, label=f'Mean: ${df_sales[\"total_amount\"].mean():.2f}')\n",
    "plt.title('Distribution of Transaction Amounts', fontsize=14, fontweight='bold')\n",
    "plt.xlabel('Transaction Amount ($)')\n",
    "plt.ylabel('Frequency')\n",
    "plt.legend()\n",
    "plt.grid(axis='y', alpha=0.3)\n",
    "plt.tight_layout()\n",
    "plt.show()"
   ]
  },
  {
   "cell_type": "markdown",
   "id": "88b535fa",
   "metadata": {},
   "source": [
    "## Exercise 6: Merging Data (15 points)"
   ]
  },
  {
   "cell_type": "code",
   "execution_count": null,
   "id": "c4bd47ea",
   "metadata": {},
   "outputs": [],
   "source": [
    "# 1. Load customer data\n",
    "df_customers = pd.read_csv('../datasets/customer_data.csv', parse_dates=['signup_date'])\n",
    "\n",
    "# 2. Merge with sales\n",
    "df_merged = pd.merge(\n",
    "    df_sales,\n",
    "    df_customers[['customer_id', 'customer_segment', 'city', 'state']],\n",
    "    on='customer_id',\n",
    "    how='left'\n",
    ")\n",
    "\n",
    "print(\"Merged data sample:\")\n",
    "print(df_merged[['transaction_id', 'customer_id', 'customer_segment', 'total_amount']].head(10))"
   ]
  },
  {
   "cell_type": "code",
   "execution_count": null,
   "id": "a114ba2f",
   "metadata": {},
   "outputs": [],
   "source": [
    "# 3. Total sales by customer segment\n",
    "segment_sales = df_merged.groupby('customer_segment')['total_amount'].sum().sort_values(ascending=False)\n",
    "print(\"\\nTotal sales by customer segment:\")\n",
    "for segment, total in segment_sales.items():\n",
    "    print(f\"  {segment}: ${total:,.2f}\")"
   ]
  },
  {
   "cell_type": "code",
   "execution_count": null,
   "id": "f90e3cf9",
   "metadata": {},
   "outputs": [],
   "source": [
    "# 4. Top 5 customers by total purchase amount\n",
    "top_customers = df_merged.groupby('customer_id').agg({\n",
    "    'total_amount': 'sum',\n",
    "    'transaction_id': 'count'\n",
    "}).sort_values('total_amount', ascending=False).head(5)\n",
    "top_customers.columns = ['Total_Purchased', 'Num_Transactions']\n",
    "\n",
    "print(\"\\nTop 5 customers by total purchase amount:\")\n",
    "print(top_customers)"
   ]
  },
  {
   "cell_type": "markdown",
   "id": "ea968773",
   "metadata": {},
   "source": [
    "## Exercise 7: Data Cleaning (20 points)"
   ]
  },
  {
   "cell_type": "code",
   "execution_count": null,
   "id": "cf4422a5",
   "metadata": {},
   "outputs": [],
   "source": [
    "# Load survey data\n",
    "df_survey = pd.read_csv('../datasets/survey_results.csv', parse_dates=['submission_date'])\n",
    "\n",
    "print(\"BEFORE CLEANING:\")\n",
    "print(f\"Total rows: {len(df_survey)}\")\n",
    "print(\"\\nMissing values per column:\")\n",
    "print(df_survey.isnull().sum())"
   ]
  },
  {
   "cell_type": "code",
   "execution_count": null,
   "id": "370ef241",
   "metadata": {},
   "outputs": [],
   "source": [
    "# Make a copy for cleaning\n",
    "df_survey_clean = df_survey.copy()\n",
    "\n",
    "# 2. Fill missing satisfaction_score with median\n",
    "median_score = df_survey_clean['satisfaction_score'].median()\n",
    "df_survey_clean['satisfaction_score'] = df_survey_clean['satisfaction_score'].fillna(median_score)\n",
    "\n",
    "# 3. Fill missing age_group\n",
    "df_survey_clean['age_group'] = df_survey_clean['age_group'].fillna('Not specified')\n",
    "\n",
    "# 4. Remove rows where would_recommend is missing\n",
    "df_survey_clean = df_survey_clean.dropna(subset=['would_recommend'])\n",
    "\n",
    "print(\"\\nAFTER CLEANING:\")\n",
    "print(f\"Total rows: {len(df_survey_clean)}\")\n",
    "print(\"\\nMissing values per column:\")\n",
    "print(df_survey_clean.isnull().sum())"
   ]
  },
  {
   "cell_type": "code",
   "execution_count": null,
   "id": "ccd816ae",
   "metadata": {},
   "outputs": [],
   "source": [
    "# 5. Show before and after counts\n",
    "print(\"\\nCLEANING SUMMARY:\")\n",
    "print(f\"Rows before: {len(df_survey):,}\")\n",
    "print(f\"Rows after: {len(df_survey_clean):,}\")\n",
    "print(f\"Rows removed: {len(df_survey) - len(df_survey_clean):,} ({(1 - len(df_survey_clean)/len(df_survey))*100:.1f}%)\")"
   ]
  },
  {
   "cell_type": "markdown",
   "id": "ab189d29",
   "metadata": {},
   "source": [
    "## Exercise 8: Date/Time Analysis (15 points)"
   ]
  },
  {
   "cell_type": "code",
   "execution_count": null,
   "id": "6e9c3c56",
   "metadata": {},
   "outputs": [],
   "source": [
    "# 1. Extract month and day_of_week\n",
    "df_sales['month'] = df_sales['date'].dt.month\n",
    "df_sales['day_of_week'] = df_sales['date'].dt.day_name()\n",
    "\n",
    "print(\"Date components added:\")\n",
    "print(df_sales[['date', 'month', 'day_of_week']].head(10))"
   ]
  },
  {
   "cell_type": "code",
   "execution_count": null,
   "id": "3467400e",
   "metadata": {},
   "outputs": [],
   "source": [
    "# 2. Total sales by month\n",
    "monthly_sales = df_sales.groupby('month')['total_amount'].sum().sort_index()\n",
    "print(\"\\nTotal sales by month:\")\n",
    "for month, total in monthly_sales.items():\n",
    "    print(f\"  Month {month}: ${total:,.2f}\")"
   ]
  },
  {
   "cell_type": "code",
   "execution_count": null,
   "id": "720510e0",
   "metadata": {},
   "outputs": [],
   "source": [
    "# 3. Average sales by day of week\n",
    "day_order = ['Monday', 'Tuesday', 'Wednesday', 'Thursday', 'Friday', 'Saturday', 'Sunday']\n",
    "weekly_pattern = df_sales.groupby('day_of_week')['total_amount'].mean().reindex(day_order)\n",
    "\n",
    "print(\"\\nAverage sales by day of week:\")\n",
    "for day, avg in weekly_pattern.items():\n",
    "    print(f\"  {day}: ${avg:,.2f}\")"
   ]
  },
  {
   "cell_type": "code",
   "execution_count": null,
   "id": "c49c8550",
   "metadata": {},
   "outputs": [],
   "source": [
    "# 4. Visualize monthly sales\n",
    "plt.figure(figsize=(12, 6))\n",
    "monthly_sales.plot(kind='line', marker='o', linewidth=2, markersize=8, color='purple')\n",
    "plt.title('Monthly Sales Trend', fontsize=14, fontweight='bold')\n",
    "plt.xlabel('Month')\n",
    "plt.ylabel('Total Sales ($)')\n",
    "plt.xticks(monthly_sales.index)\n",
    "plt.grid(True, alpha=0.3)\n",
    "plt.tight_layout()\n",
    "plt.show()"
   ]
  },
  {
   "cell_type": "markdown",
   "id": "e75d7bd5",
   "metadata": {},
   "source": [
    "## Exercise 9: Pivot Tables (15 points)"
   ]
  },
  {
   "cell_type": "code",
   "execution_count": null,
   "id": "a2535945",
   "metadata": {},
   "outputs": [],
   "source": [
    "# 1. Sales by region and payment method\n",
    "pivot1 = df_sales.pivot_table(\n",
    "    values='total_amount',\n",
    "    index='region',\n",
    "    columns='payment_method',\n",
    "    aggfunc='sum',\n",
    "    fill_value=0\n",
    ").round(2)\n",
    "\n",
    "print(\"1. Sales amount by region and payment method:\")\n",
    "print(pivot1)"
   ]
  },
  {
   "cell_type": "code",
   "execution_count": null,
   "id": "43536d0b",
   "metadata": {},
   "outputs": [],
   "source": [
    "# 2. Transaction count by sales rep and region\n",
    "pivot2 = df_sales.pivot_table(\n",
    "    values='transaction_id',\n",
    "    index='sales_rep',\n",
    "    columns='region',\n",
    "    aggfunc='count',\n",
    "    fill_value=0\n",
    ")\n",
    "\n",
    "print(\"\\n2. Transaction count by sales rep and region:\")\n",
    "print(pivot2)"
   ]
  },
  {
   "cell_type": "code",
   "execution_count": null,
   "id": "524696e9",
   "metadata": {},
   "outputs": [],
   "source": [
    "# 3. Average transaction by quarter and region\n",
    "df_sales['quarter'] = df_sales['date'].dt.quarter\n",
    "\n",
    "pivot3 = df_sales.pivot_table(\n",
    "    values='total_amount',\n",
    "    index='quarter',\n",
    "    columns='region',\n",
    "    aggfunc='mean',\n",
    "    fill_value=0\n",
    ").round(2)\n",
    "\n",
    "print(\"\\n3. Average transaction amount by quarter and region:\")\n",
    "print(pivot3)"
   ]
  },
  {
   "cell_type": "markdown",
   "id": "97469e3f",
   "metadata": {},
   "source": [
    "## Exercise 10: Comprehensive Analysis (20 points)"
   ]
  },
  {
   "cell_type": "code",
   "execution_count": null,
   "id": "18e47406",
   "metadata": {},
   "outputs": [],
   "source": [
    "# Which sales representatives are performing best, and in which regions?\n",
    "\n",
    "# 1. Total sales per rep\n",
    "rep_totals = df_sales.groupby('sales_rep')['total_amount'].sum().sort_values(ascending=False)\n",
    "print(\"1. Total sales per sales representative:\")\n",
    "for rep, total in rep_totals.items():\n",
    "    print(f\"   {rep}: ${total:,.2f}\")"
   ]
  },
  {
   "cell_type": "code",
   "execution_count": null,
   "id": "e7b2ed2a",
   "metadata": {},
   "outputs": [],
   "source": [
    "# 2. Average transaction size per rep\n",
    "rep_avg = df_sales.groupby('sales_rep')['total_amount'].mean().sort_values(ascending=False)\n",
    "print(\"\\n2. Average transaction size per sales representative:\")\n",
    "for rep, avg in rep_avg.items():\n",
    "    print(f\"   {rep}: ${avg:,.2f}\")"
   ]
  },
  {
   "cell_type": "code",
   "execution_count": null,
   "id": "f1f1afd1",
   "metadata": {},
   "outputs": [],
   "source": [
    "# 3. Number of transactions per rep\n",
    "rep_count = df_sales.groupby('sales_rep').size().sort_values(ascending=False)\n",
    "print(\"\\n3. Number of transactions per sales representative:\")\n",
    "for rep, count in rep_count.items():\n",
    "    print(f\"   {rep}: {count:,} transactions\")"
   ]
  },
  {
   "cell_type": "code",
   "execution_count": null,
   "id": "dc296e55",
   "metadata": {},
   "outputs": [],
   "source": [
    "# 4. Breakdown by region\n",
    "rep_region_breakdown = df_sales.pivot_table(\n",
    "    values='total_amount',\n",
    "    index='sales_rep',\n",
    "    columns='region',\n",
    "    aggfunc='sum',\n",
    "    fill_value=0\n",
    ").round(2)\n",
    "\n",
    "print(\"\\n4. Sales by rep and region:\")\n",
    "print(rep_region_breakdown)"
   ]
  },
  {
   "cell_type": "code",
   "execution_count": null,
   "id": "50fcb3a6",
   "metadata": {},
   "outputs": [],
   "source": [
    "# 5. Visualization of top 5 reps\n",
    "top_5_reps = rep_totals.head(5)\n",
    "\n",
    "plt.figure(figsize=(12, 6))\n",
    "plt.barh(range(len(top_5_reps)), top_5_reps.values, color='teal')\n",
    "plt.yticks(range(len(top_5_reps)), top_5_reps.index)\n",
    "plt.xlabel('Total Sales ($)')\n",
    "plt.title('Top 5 Sales Representatives by Total Sales', fontsize=14, fontweight='bold')\n",
    "plt.grid(axis='x', alpha=0.3)\n",
    "\n",
    "# Add value labels\n",
    "for i, value in enumerate(top_5_reps.values):\n",
    "    plt.text(value, i, f' ${value:,.0f}', va='center')\n",
    "\n",
    "plt.tight_layout()\n",
    "plt.show()"
   ]
  },
  {
   "cell_type": "markdown",
   "id": "b38e147e",
   "metadata": {},
   "source": [
    "## Challenge Exercise: Mini Dashboard (Bonus 30 points)"
   ]
  },
  {
   "cell_type": "code",
   "execution_count": null,
   "id": "ef2cc9f6",
   "metadata": {
    "lines_to_next_cell": 1
   },
   "outputs": [],
   "source": [
    "# Create a professional dashboard\n",
    "fig = plt.figure(figsize=(16, 10))\n",
    "gs = fig.add_gridspec(3, 3, hspace=0.3, wspace=0.3)\n",
    "\n",
    "# Plot 1: Key metrics (Text)\n",
    "ax1 = fig.add_subplot(gs[0, 0])\n",
    "ax1.axis('off')\n",
    "metrics_text = f\"\"\"\n",
    "KEY METRICS\n",
    "\n",
    "Total Revenue:\n",
    "${df_sales['total_amount'].sum():,.0f}\n",
    "\n",
    "Avg Transaction:\n",
    "${df_sales['total_amount'].mean():,.0f}\n",
    "\n",
    "Total Transactions:\n",
    "{len(df_sales):,}\n",
    "\n",
    "Unique Customers:\n",
    "{df_sales['customer_id'].nunique():,}\n",
    "\n",
    "Date Range:\n",
    "{df_sales['date'].min().date()}\n",
    "to {df_sales['date'].max().date()}\n",
    "\"\"\"\n",
    "ax1.text(0.1, 0.5, metrics_text, fontsize=11, verticalalignment='center',\n",
    "         bbox=dict(boxstyle='round', facecolor='wheat', alpha=0.5))\n",
    "ax1.set_title('Overview', fontsize=12, fontweight='bold', loc='left')\n",
    "\n",
    "# Plot 2: Sales by region\n",
    "ax2 = fig.add_subplot(gs[0, 1:])\n",
    "region_sales = df_sales.groupby('region')['total_amount'].sum().sort_values(ascending=False)\n",
    "ax2.bar(region_sales.index, region_sales.values, color='#2E86AB')\n",
    "ax2.set_title('Sales by Region', fontsize=12, fontweight='bold')\n",
    "ax2.set_ylabel('Total Sales ($)')\n",
    "ax2.grid(axis='y', alpha=0.3)\n",
    "ax2.tick_params(axis='x', rotation=45)\n",
    "\n",
    "# Plot 3: Sales trend\n",
    "ax3 = fig.add_subplot(gs[1, :])\n",
    "daily_sales = df_sales.groupby('date')['total_amount'].sum().sort_index()\n",
    "ax3.plot(daily_sales.index, daily_sales.values, linewidth=2, color='#2ECC71')\n",
    "ax3.set_title('Daily Sales Trend', fontsize=12, fontweight='bold')\n",
    "ax3.set_ylabel('Sales ($)')\n",
    "ax3.tick_params(axis='x', rotation=45)\n",
    "ax3.grid(True, alpha=0.3)\n",
    "\n",
    "# Plot 4: Payment methods\n",
    "ax4 = fig.add_subplot(gs[2, :2])\n",
    "payment_counts = df_sales['payment_method'].value_counts()\n",
    "colors = ['#FF6B6B', '#4ECDC4', '#45B7D1', '#FFA07A', '#98D8C8']\n",
    "ax4.pie(payment_counts.values, labels=payment_counts.index, autopct='%1.1f%%',\n",
    "        colors=colors, textprops={'fontsize': 9})\n",
    "ax4.set_title('Payment Methods', fontsize=12, fontweight='bold')\n",
    "\n",
    "# Plot 5: Transaction distribution\n",
    "ax5 = fig.add_subplot(gs[2, 2])\n",
    "ax5.hist(df_sales['total_amount'], bins=30, color='coral', edgecolor='black', alpha=0.7)\n",
    "ax5.axvline(df_sales['total_amount'].mean(), color='red', linestyle='--', linewidth=2)\n",
    "ax5.set_xlabel('Amount ($)')\n",
    "ax5.set_ylabel('Frequency')\n",
    "ax5.set_title('Transaction Distribution', fontsize=12, fontweight='bold')\n",
    "ax5.tick_params(axis='x', rotation=45)\n",
    "\n",
    "plt.suptitle('SALES DASHBOARD', fontsize=18, fontweight='bold', y=0.98)\n",
    "plt.savefig('sales_dashboard.png', dpi=300, bbox_inches='tight')\n",
    "plt.show()\n",
    "\n",
    "print(\"✓ Dashboard saved as 'sales_dashboard.png'\")"
   ]
  },
  {
   "cell_type": "markdown",
   "id": "0e405cb4",
   "metadata": {},
   "source": [
    "## Challenge Exercise: Custom Function (Bonus 20 points)"
   ]
  },
  {
   "cell_type": "code",
   "execution_count": null,
   "id": "6c1ebf45",
   "metadata": {
    "lines_to_next_cell": 1
   },
   "outputs": [],
   "source": [
    "def generate_sales_summary(df):\n",
    "    \"\"\"\n",
    "    Generate a sales summary report\n",
    "    \n",
    "    Parameters:\n",
    "    - df: DataFrame with sales data (must have 'total_amount' column)\n",
    "    \n",
    "    Returns:\n",
    "    - str: Formatted summary report\n",
    "    \"\"\"\n",
    "    try:\n",
    "        # Validate input\n",
    "        if not isinstance(df, pd.DataFrame):\n",
    "            return \"Error: Input must be a pandas DataFrame\"\n",
    "        \n",
    "        if 'total_amount' not in df.columns:\n",
    "            return \"Error: DataFrame must have 'total_amount' column\"\n",
    "        \n",
    "        if len(df) == 0:\n",
    "            return \"Error: DataFrame is empty\"\n",
    "        \n",
    "        # Calculate metrics\n",
    "        total_sales = df['total_amount'].sum()\n",
    "        avg_sale = df['total_amount'].mean()\n",
    "        median_sale = df['total_amount'].median()\n",
    "        num_transactions = len(df)\n",
    "        max_sale = df['total_amount'].max()\n",
    "        min_sale = df['total_amount'].min()\n",
    "        \n",
    "        # Build report\n",
    "        report = \"=\" * 50 + \"\\n\"\n",
    "        report += \"SALES SUMMARY REPORT\\n\"\n",
    "        report += \"=\" * 50 + \"\\n\\n\"\n",
    "        \n",
    "        report += \"📊 KEY METRICS\\n\"\n",
    "        report += \"-\" * 50 + \"\\n\"\n",
    "        report += f\"Total Sales:          ${total_sales:>15,.2f}\\n\"\n",
    "        report += f\"Average Transaction:  ${avg_sale:>15,.2f}\\n\"\n",
    "        report += f\"Median Transaction:   ${median_sale:>15,.2f}\\n\"\n",
    "        report += f\"Total Transactions:   {num_transactions:>18,}\\n\"\n",
    "        report += f\"Largest Sale:         ${max_sale:>15,.2f}\\n\"\n",
    "        report += f\"Smallest Sale:        ${min_sale:>15,.2f}\\n\"\n",
    "        \n",
    "        # Regional breakdown if available\n",
    "        if 'region' in df.columns:\n",
    "            report += \"\\n🌍 REGIONAL BREAKDOWN\\n\"\n",
    "            report += \"-\" * 50 + \"\\n\"\n",
    "            regional = df.groupby('region')['total_amount'].agg(['sum', 'count'])\n",
    "            for region, row in regional.iterrows():\n",
    "                report += f\"{region:12s}: ${row['sum']:>12,.2f} ({int(row['count']):>4,} txns)\\n\"\n",
    "        \n",
    "        report += \"\\n\" + \"=\" * 50 + \"\\n\"\n",
    "        \n",
    "        return report\n",
    "        \n",
    "    except Exception as e:\n",
    "        return f\"Error generating report: {str(e)}\""
   ]
  },
  {
   "cell_type": "code",
   "execution_count": null,
   "id": "a3431de0",
   "metadata": {},
   "outputs": [],
   "source": [
    "# Test the function\n",
    "print(generate_sales_summary(df_sales))"
   ]
  },
  {
   "cell_type": "code",
   "execution_count": null,
   "id": "d053d43f",
   "metadata": {},
   "outputs": [],
   "source": [
    "# Test with a subset\n",
    "north_sales = df_sales[df_sales['region'] == 'North']\n",
    "print(\"\\nNORTH REGION ONLY:\")\n",
    "print(generate_sales_summary(north_sales))"
   ]
  },
  {
   "cell_type": "markdown",
   "id": "af32106e",
   "metadata": {
    "lines_to_next_cell": 2
   },
   "source": [
    "## Congratulations! 🎉\n",
    "\n",
    "You've completed all the exercises!\n",
    "\n",
    "### Your Learning Journey\n",
    "\n",
    "✅ Python fundamentals  \n",
    "✅ Data loading and exploration  \n",
    "✅ Filtering and selection  \n",
    "✅ GroupBy operations  \n",
    "✅ Data visualization  \n",
    "✅ Merging datasets  \n",
    "✅ Data cleaning  \n",
    "✅ Date/time operations  \n",
    "✅ Pivot tables  \n",
    "✅ Creating functions\n",
    "\n",
    "### Next Steps\n",
    "\n",
    "1. **Review**: Go through any exercises you found challenging\n",
    "2. **Practice**: Try analyzing your own datasets\n",
    "3. **Build**: Create an automated report for work\n",
    "4. **Learn More**: Check out `reference/resources.md` for next topics\n",
    "\n",
    "### Keep Learning!\n",
    "\n",
    "- Join the Python community on Reddit (r/learnpython)\n",
    "- Follow data science blogs\n",
    "- Practice on Kaggle\n",
    "- Build real projects\n",
    "\n",
    "**You're now equipped to do data analysis with Python!** 🐍📊🚀"
   ]
  }
 ],
 "metadata": {
  "jupytext": {
   "cell_metadata_filter": "-all",
   "main_language": "python",
   "notebook_metadata_filter": "-all"
  }
 },
 "nbformat": 4,
 "nbformat_minor": 5
}
