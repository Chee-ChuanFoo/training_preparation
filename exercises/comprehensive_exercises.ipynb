{
 "cells": [
  {
   "cell_type": "markdown",
   "id": "b2c786d8",
   "metadata": {},
   "source": [
    "# Comprehensive Practice Exercises\n",
    "\n",
    "This notebook contains hands-on exercises covering all modules from the course.\n",
    "Try to complete them on your own before checking the solutions!\n",
    "\n",
    "## Instructions\n",
    "1. Read each exercise carefully\n",
    "2. Write your code in the empty cells\n",
    "3. Run your code to verify it works\n",
    "4. Compare with the solution notebook when done"
   ]
  },
  {
   "cell_type": "code",
   "execution_count": null,
   "id": "ca3efe05",
   "metadata": {},
   "outputs": [],
   "source": [
    "import pandas as pd\n",
    "import numpy as np\n",
    "import matplotlib.pyplot as plt\n",
    "import seaborn as sns\n",
    "\n",
    "print(\"✓ Libraries imported successfully!\")"
   ]
  },
  {
   "cell_type": "markdown",
   "id": "c66baf22",
   "metadata": {},
   "source": [
    "## Exercise 1: Python Fundamentals (10 points)\n",
    "\n",
    "### Task A: Working with Lists\n",
    "Create a list of monthly revenue values and calculate:\n",
    "- Total revenue\n",
    "- Average monthly revenue\n",
    "- The highest and lowest months\n",
    "- How many months exceeded $20,000"
   ]
  },
  {
   "cell_type": "code",
   "execution_count": null,
   "id": "c6f03fdb",
   "metadata": {
    "lines_to_next_cell": 2
   },
   "outputs": [],
   "source": [
    "# Your code here\n",
    "monthly_revenue = [18000, 22000, 19500, 25000, 21000, 23500, 26000, 24000, 22500, 27000, 29000, 31000]\n",
    "\n",
    "# Calculate statistics"
   ]
  },
  {
   "cell_type": "markdown",
   "id": "98582e84",
   "metadata": {},
   "source": [
    "### Task B: Dictionary Operations\n",
    "Create a dictionary for a product with: name, price, quantity, category\n",
    "Then calculate the total value (price * quantity)"
   ]
  },
  {
   "cell_type": "code",
   "execution_count": null,
   "id": "573ef05e",
   "metadata": {
    "lines_to_next_cell": 2
   },
   "outputs": [],
   "source": [
    "# Your code here"
   ]
  },
  {
   "cell_type": "markdown",
   "id": "612a46ed",
   "metadata": {},
   "source": [
    "## Exercise 2: Loading and Exploring Data (10 points)\n",
    "\n",
    "Load the sales data and answer these questions:\n",
    "1. How many transactions are there?\n",
    "2. What is the date range of the data?\n",
    "3. How many unique customers made purchases?\n",
    "4. What are the top 3 payment methods used?"
   ]
  },
  {
   "cell_type": "code",
   "execution_count": null,
   "id": "311a53a9",
   "metadata": {
    "lines_to_next_cell": 2
   },
   "outputs": [],
   "source": [
    "# Load the data\n",
    "# df_sales = pd.read_csv('../datasets/sales_data.csv', parse_dates=['date'])\n",
    "\n",
    "# Your analysis here"
   ]
  },
  {
   "cell_type": "markdown",
   "id": "692610ab",
   "metadata": {},
   "source": [
    "## Exercise 3: Filtering and Selection (15 points)\n",
    "\n",
    "Using the sales data:\n",
    "1. Find all transactions over $1,500\n",
    "2. Find all transactions from the \"North\" or \"South\" region\n",
    "3. Find transactions over $1,000 AND from \"East\" region\n",
    "4. Display only the date, region, and total_amount columns"
   ]
  },
  {
   "cell_type": "code",
   "execution_count": null,
   "id": "17ab17e8",
   "metadata": {
    "lines_to_next_cell": 2
   },
   "outputs": [],
   "source": [
    "# Your code here"
   ]
  },
  {
   "cell_type": "markdown",
   "id": "02ff92b0",
   "metadata": {},
   "source": [
    "## Exercise 4: Groupby and Aggregation (20 points)\n",
    "\n",
    "Analyze sales performance:\n",
    "1. Calculate total sales by region\n",
    "2. Calculate average transaction amount by payment method\n",
    "3. Count number of transactions per sales representative\n",
    "4. Create a summary showing: total sales, average sale, and transaction count by region"
   ]
  },
  {
   "cell_type": "code",
   "execution_count": null,
   "id": "68e71597",
   "metadata": {
    "lines_to_next_cell": 2
   },
   "outputs": [],
   "source": [
    "# Your code here"
   ]
  },
  {
   "cell_type": "markdown",
   "id": "29c16607",
   "metadata": {},
   "source": [
    "## Exercise 5: Data Visualization (20 points)\n",
    "\n",
    "Create the following visualizations:\n",
    "1. Bar chart: Total sales by region\n",
    "2. Line chart: Daily sales trend over time\n",
    "3. Pie chart: Distribution of payment methods\n",
    "4. Histogram: Distribution of transaction amounts"
   ]
  },
  {
   "cell_type": "code",
   "execution_count": null,
   "id": "3a7507ee",
   "metadata": {
    "lines_to_next_cell": 2
   },
   "outputs": [],
   "source": [
    "# Visualization 1: Bar chart\n",
    "# Your code here"
   ]
  },
  {
   "cell_type": "code",
   "execution_count": null,
   "id": "b122c16d",
   "metadata": {
    "lines_to_next_cell": 2
   },
   "outputs": [],
   "source": [
    "# Visualization 2: Line chart\n",
    "# Your code here"
   ]
  },
  {
   "cell_type": "code",
   "execution_count": null,
   "id": "d46509a6",
   "metadata": {
    "lines_to_next_cell": 2
   },
   "outputs": [],
   "source": [
    "# Visualization 3: Pie chart\n",
    "# Your code here"
   ]
  },
  {
   "cell_type": "code",
   "execution_count": null,
   "id": "2521d839",
   "metadata": {
    "lines_to_next_cell": 2
   },
   "outputs": [],
   "source": [
    "# Visualization 4: Histogram\n",
    "# Your code here"
   ]
  },
  {
   "cell_type": "markdown",
   "id": "86755241",
   "metadata": {},
   "source": [
    "## Exercise 6: Merging Data (15 points)\n",
    "\n",
    "1. Load the customer data\n",
    "2. Merge it with sales data on customer_id\n",
    "3. Calculate total sales by customer segment\n",
    "4. Find the top 5 customers by total purchase amount"
   ]
  },
  {
   "cell_type": "code",
   "execution_count": null,
   "id": "10b99230",
   "metadata": {
    "lines_to_next_cell": 2
   },
   "outputs": [],
   "source": [
    "# Load customer data\n",
    "# df_customers = pd.read_csv('../datasets/customer_data.csv')\n",
    "\n",
    "# Your code here"
   ]
  },
  {
   "cell_type": "markdown",
   "id": "85f2800d",
   "metadata": {},
   "source": [
    "## Exercise 7: Data Cleaning (20 points)\n",
    "\n",
    "Load the survey data and:\n",
    "1. Check for missing values in each column\n",
    "2. Fill missing satisfaction_score with the median\n",
    "3. Fill missing age_group with \"Not specified\"\n",
    "4. Remove rows where would_recommend is missing\n",
    "5. Show the before and after counts"
   ]
  },
  {
   "cell_type": "code",
   "execution_count": null,
   "id": "506837db",
   "metadata": {
    "lines_to_next_cell": 2
   },
   "outputs": [],
   "source": [
    "# Load survey data\n",
    "# df_survey = pd.read_csv('../datasets/survey_results.csv', parse_dates=['submission_date'])\n",
    "\n",
    "# Your code here"
   ]
  },
  {
   "cell_type": "markdown",
   "id": "dea4f0b6",
   "metadata": {},
   "source": [
    "## Exercise 8: Date/Time Analysis (15 points)\n",
    "\n",
    "Using sales data:\n",
    "1. Extract month and day_of_week from date\n",
    "2. Calculate total sales by month\n",
    "3. Calculate average sales by day of week\n",
    "4. Visualize monthly sales as a line chart"
   ]
  },
  {
   "cell_type": "code",
   "execution_count": null,
   "id": "d3367cdd",
   "metadata": {
    "lines_to_next_cell": 2
   },
   "outputs": [],
   "source": [
    "# Your code here"
   ]
  },
  {
   "cell_type": "markdown",
   "id": "87bf408d",
   "metadata": {},
   "source": [
    "## Exercise 9: Pivot Tables (15 points)\n",
    "\n",
    "Create pivot tables showing:\n",
    "1. Sales amount by region (rows) and payment method (columns)\n",
    "2. Count of transactions by sales_rep (rows) and region (columns)\n",
    "3. Average transaction amount by quarter (rows) and region (columns)"
   ]
  },
  {
   "cell_type": "code",
   "execution_count": null,
   "id": "57738c29",
   "metadata": {
    "lines_to_next_cell": 2
   },
   "outputs": [],
   "source": [
    "# Your code here"
   ]
  },
  {
   "cell_type": "markdown",
   "id": "65c2cb3e",
   "metadata": {},
   "source": [
    "## Exercise 10: Comprehensive Analysis (20 points)\n",
    "\n",
    "### Business Question:\n",
    "Your manager wants to know: \"Which sales representatives are performing best, and in which regions?\"\n",
    "\n",
    "Create an analysis that includes:\n",
    "1. Total sales per sales rep\n",
    "2. Average transaction size per sales rep\n",
    "3. Number of transactions per sales rep\n",
    "4. A breakdown of each rep's sales by region\n",
    "5. A visualization showing the top 5 reps by total sales"
   ]
  },
  {
   "cell_type": "code",
   "execution_count": null,
   "id": "77e40c77",
   "metadata": {
    "lines_to_next_cell": 2
   },
   "outputs": [],
   "source": [
    "# Your comprehensive analysis here"
   ]
  },
  {
   "cell_type": "markdown",
   "id": "f61cd6b4",
   "metadata": {},
   "source": [
    "## Challenge Exercise: Mini Dashboard (Bonus 30 points)\n",
    "\n",
    "Create a professional-looking dashboard with 4 visualizations:\n",
    "1. Key metrics (total sales, avg transaction, etc.) as text\n",
    "2. Sales by region (bar chart)\n",
    "3. Sales trend over time (line chart)\n",
    "4. Payment method distribution (pie chart)\n",
    "\n",
    "Use subplots to arrange them nicely!"
   ]
  },
  {
   "cell_type": "code",
   "execution_count": null,
   "id": "161fbb89",
   "metadata": {
    "lines_to_next_cell": 2
   },
   "outputs": [],
   "source": [
    "# Your dashboard code here"
   ]
  },
  {
   "cell_type": "markdown",
   "id": "7004427c",
   "metadata": {},
   "source": [
    "## Challenge Exercise: Custom Function (Bonus 20 points)\n",
    "\n",
    "Create a reusable function that takes a DataFrame and generates a sales report.\n",
    "\n",
    "The function should:\n",
    "- Accept a DataFrame as input\n",
    "- Calculate key metrics (total, average, count)\n",
    "- Return a formatted summary as a string\n",
    "- Handle errors gracefully"
   ]
  },
  {
   "cell_type": "code",
   "execution_count": null,
   "id": "2f44a8b5",
   "metadata": {
    "lines_to_next_cell": 2
   },
   "outputs": [],
   "source": [
    "def generate_sales_summary(df):\n",
    "    \"\"\"\n",
    "    Generate a sales summary report\n",
    "    \n",
    "    Parameters:\n",
    "    - df: DataFrame with sales data\n",
    "    \n",
    "    Returns:\n",
    "    - str: Formatted summary report\n",
    "    \"\"\"\n",
    "    # Your code here\n",
    "    pass\n",
    "\n",
    "# Test your function\n",
    "# print(generate_sales_summary(df_sales))"
   ]
  },
  {
   "cell_type": "markdown",
   "id": "b6a90abd",
   "metadata": {
    "lines_to_next_cell": 2
   },
   "source": [
    "## Self-Assessment\n",
    "\n",
    "Rate your confidence (1-5) for each skill:\n",
    "\n",
    "- [ ] Python basics (lists, dictionaries, loops): ___/5\n",
    "- [ ] Loading and exploring data: ___/5\n",
    "- [ ] Filtering and selecting data: ___/5\n",
    "- [ ] GroupBy operations: ___/5\n",
    "- [ ] Data visualization: ___/5\n",
    "- [ ] Merging datasets: ___/5\n",
    "- [ ] Data cleaning: ___/5\n",
    "- [ ] Date/time operations: ___/5\n",
    "- [ ] Pivot tables: ___/5\n",
    "- [ ] Creating functions: ___/5\n",
    "\n",
    "**Next Steps:**\n",
    "- Areas where you scored 1-2: Review the corresponding module\n",
    "- Areas where you scored 3: Practice more with similar exercises\n",
    "- Areas where you scored 4-5: Great! Try more advanced topics\n",
    "\n",
    "---\n",
    "\n",
    "**Great job working through these exercises! 🎉**\n",
    "\n",
    "Remember: The best way to learn is by doing. Keep practicing with real datasets!"
   ]
  }
 ],
 "metadata": {
  "jupytext": {
   "cell_metadata_filter": "-all",
   "main_language": "python",
   "notebook_metadata_filter": "-all"
  }
 },
 "nbformat": 4,
 "nbformat_minor": 5
}
