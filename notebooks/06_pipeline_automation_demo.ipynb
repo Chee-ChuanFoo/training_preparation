{
 "cells": [
  {
   "cell_type": "code",
   "execution_count": 10,
   "id": "b17b16d9",
   "metadata": {},
   "outputs": [],
   "source": [
    "import pandas as pd"
   ]
  },
  {
   "cell_type": "code",
   "execution_count": 11,
   "id": "a6a284c7",
   "metadata": {},
   "outputs": [],
   "source": [
    "def load_data():\n",
    "    df_sales = pd.read_csv(\"../datasets/sales_data.csv\")\n",
    "    df_customer = pd.read_csv(\"../datasets/customer_data.csv\")\n",
    "    df_product = pd.read_csv(\"../datasets/product_catalog.csv\")\n",
    "    return df_sales, df_customer, df_product"
   ]
  },
  {
   "cell_type": "code",
   "execution_count": 12,
   "id": "fab0284c",
   "metadata": {},
   "outputs": [],
   "source": [
    "def merge_data(df_sales, df_customer, df_product):\n",
    "    # Merge sales with customer data\n",
    "    df_merged = pd.merge(df_sales, df_customer, on='customer_id', how='left')\n",
    "    # Merge the result with product data\n",
    "    df_merged = pd.merge(df_merged, df_product, on='product_id', how='left')\n",
    "    return df_merged"
   ]
  },
  {
   "cell_type": "code",
   "execution_count": 13,
   "id": "e7963231",
   "metadata": {},
   "outputs": [],
   "source": [
    "def export_data(df, output_path):\n",
    "    df.to_csv(output_path, index=False)"
   ]
  },
  {
   "cell_type": "code",
   "execution_count": 14,
   "id": "ca88d31b",
   "metadata": {},
   "outputs": [],
   "source": [
    "def main():\n",
    "    \n",
    "    # Load data\n",
    "    df_sales, df_customer, df_product = load_data()\n",
    "    \n",
    "    # Merge data\n",
    "    df_combined = merge_data(df_sales, df_customer, df_product)\n",
    "    \n",
    "    # Export combined data\n",
    "    export_data(df_combined, '../automation/combined_data.csv')"
   ]
  },
  {
   "cell_type": "code",
   "execution_count": 15,
   "id": "d67af3ea",
   "metadata": {},
   "outputs": [],
   "source": [
    "main()"
   ]
  },
  {
   "cell_type": "code",
   "execution_count": null,
   "id": "2f101a69",
   "metadata": {},
   "outputs": [],
   "source": []
  }
 ],
 "metadata": {
  "kernelspec": {
   "display_name": ".venv (3.9.13)",
   "language": "python",
   "name": "python3"
  },
  "language_info": {
   "codemirror_mode": {
    "name": "ipython",
    "version": 3
   },
   "file_extension": ".py",
   "mimetype": "text/x-python",
   "name": "python",
   "nbconvert_exporter": "python",
   "pygments_lexer": "ipython3",
   "version": "3.9.13"
  }
 },
 "nbformat": 4,
 "nbformat_minor": 5
}
