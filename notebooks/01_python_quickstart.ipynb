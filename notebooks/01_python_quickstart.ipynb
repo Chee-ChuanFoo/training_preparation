{
 "cells": [
  {
   "cell_type": "markdown",
   "id": "0975def9",
   "metadata": {},
   "source": [
    "# Module 1: Python Quick Start\n",
    "\n",
    "Welcome to Python Data Analysis! In this module, we'll cover the essential Python fundamentals you need to get started with data analysis.\n",
    "\n",
    "## Learning Objectives\n",
    "- Understand basic Python data types\n",
    "- Work with variables and operators\n",
    "- Use lists and dictionaries\n",
    "- Apply control flow (if/else, loops)\n",
    "- Compare Python to Excel operations"
   ]
  },
  {
   "cell_type": "markdown",
   "id": "ba4c20d6",
   "metadata": {},
   "source": [
    "## 1. Variables and Data Types\n",
    "\n",
    "In Python, variables store values. Unlike Excel cells, you give them meaningful names."
   ]
  },
  {
   "cell_type": "code",
   "execution_count": 1,
   "id": "2aa3db7d",
   "metadata": {},
   "outputs": [
    {
     "name": "stdout",
     "output_type": "stream",
     "text": [
      "Quantity: 100\n",
      "Price: $29.99\n",
      "Total: $2999.0\n",
      "Type of total: <class 'float'>\n"
     ]
    }
   ],
   "source": [
    "# Numbers (integers and floats)\n",
    "quantity = 100\n",
    "price = 29.99\n",
    "total = quantity * price\n",
    "\n",
    "print(f\"Quantity: {quantity}\")\n",
    "print(f\"Price: ${price}\")\n",
    "print(f\"Total: ${total}\")\n",
    "print(f\"Type of total: {type(total)}\")"
   ]
  },
  {
   "cell_type": "code",
   "execution_count": 21,
   "id": "fedd674a",
   "metadata": {},
   "outputs": [
    {
     "name": "stdout",
     "output_type": "stream",
     "text": [
      "Quantity: 100\n",
      "Price: $29.99\n",
      "Total: $29.9929.9929.9929.9929.9929.9929.9929.9929.9929.9929.9929.9929.9929.9929.9929.9929.9929.9929.9929.9929.9929.9929.9929.9929.9929.9929.9929.9929.9929.9929.9929.9929.9929.9929.9929.9929.9929.9929.9929.9929.9929.9929.9929.9929.9929.9929.9929.9929.9929.9929.9929.9929.9929.9929.9929.9929.9929.9929.9929.9929.9929.9929.9929.9929.9929.9929.9929.9929.9929.9929.9929.9929.9929.9929.9929.9929.9929.9929.9929.9929.9929.9929.9929.9929.9929.9929.9929.9929.9929.9929.9929.9929.9929.9929.9929.9929.9929.9929.9929.99\n",
      "Type of total: <class 'str'>\n"
     ]
    }
   ],
   "source": [
    "# String\n",
    "quantity = 100\n",
    "price = '29.99'\n",
    "total = quantity * price\n",
    "\n",
    "print(f\"Quantity: {quantity}\")\n",
    "print(f\"Price: ${price}\")\n",
    "print(f\"Total: ${total}\")\n",
    "print(f\"Type of total: {type(total)}\")"
   ]
  },
  {
   "cell_type": "code",
   "execution_count": 2,
   "id": "b61c1d95",
   "metadata": {},
   "outputs": [
    {
     "name": "stdout",
     "output_type": "stream",
     "text": [
      "Hello, John Smith! You ordered a Laptop.\n",
      "Product name in uppercase: LAPTOP\n",
      "Length of customer name: 10\n"
     ]
    }
   ],
   "source": [
    "# Strings (text)\n",
    "product_name = \"Laptop\"\n",
    "customer_name = \"John Smith\"\n",
    "greeting = f\"Hello, {customer_name}! You ordered a {product_name}.\"\n",
    "\n",
    "print(greeting)\n",
    "print(f\"Product name in uppercase: {product_name.upper()}\")\n",
    "print(f\"Length of customer name: {len(customer_name)}\")"
   ]
  },
  {
   "cell_type": "code",
   "execution_count": 3,
   "id": "c35cfcf3",
   "metadata": {},
   "outputs": [
    {
     "name": "stdout",
     "output_type": "stream",
     "text": [
      "Premium customer: True\n",
      "Eligible for purchase: True\n"
     ]
    }
   ],
   "source": [
    "# Booleans (True/False)\n",
    "is_premium_customer = True\n",
    "has_discount = False\n",
    "in_stock = True\n",
    "\n",
    "print(f\"Premium customer: {is_premium_customer}\")\n",
    "print(f\"Eligible for purchase: {in_stock and not has_discount}\")"
   ]
  },
  {
   "cell_type": "markdown",
   "id": "760b1f0e",
   "metadata": {},
   "source": [
    "### Excel Comparison\n",
    "\n",
    "| Excel | Python |\n",
    "|-------|--------|\n",
    "| Cell A1 = 100 | `quantity = 100` |\n",
    "| =A1*B1 | `total = quantity * price` |\n",
    "| =UPPER(A1) | `product_name.upper()` |\n",
    "| =LEN(A1) | `len(customer_name)` |\n",
    "| =IF(A1>100, \"Yes\", \"No\") | `\"Yes\" if quantity > 100 else \"No\"` |"
   ]
  },
  {
   "cell_type": "markdown",
   "id": "b95b821e",
   "metadata": {},
   "source": [
    "## 2. Lists - Collections of Items\n",
    "\n",
    "Lists are like a column in Excel, but more flexible."
   ]
  },
  {
   "cell_type": "code",
   "execution_count": 5,
   "id": "324861bd",
   "metadata": {},
   "outputs": [
    {
     "name": "stdout",
     "output_type": "stream",
     "text": [
      "Sales amounts: [1200, 1500, 980, 2100, 1750]\n",
      "Regions: ['North', 'South', 'East', 'West', 'Central']\n"
     ]
    }
   ],
   "source": [
    "# Creating a list\n",
    "sales_amounts = [1200, 1500, 980, 2100, 1750]\n",
    "regions = [\"North\", \"South\", \"East\", \"West\", \"Central\"]\n",
    "\n",
    "print(\"Sales amounts:\", sales_amounts)\n",
    "print(\"Regions:\", regions)"
   ]
  },
  {
   "cell_type": "code",
   "execution_count": 6,
   "id": "cc62c017",
   "metadata": {},
   "outputs": [
    {
     "name": "stdout",
     "output_type": "stream",
     "text": [
      "First sale: $1200\n",
      "Last sale: $1750\n",
      "First three sales: [1200, 1500, 980]\n"
     ]
    }
   ],
   "source": [
    "# Accessing list items (indexing starts at 0!)\n",
    "print(f\"First sale: ${sales_amounts[0]}\")\n",
    "print(f\"Last sale: ${sales_amounts[-1]}\")\n",
    "print(f\"First three sales: {sales_amounts[0:3]}\")"
   ]
  },
  {
   "cell_type": "code",
   "execution_count": 7,
   "id": "cb34361b",
   "metadata": {},
   "outputs": [
    {
     "name": "stdout",
     "output_type": "stream",
     "text": [
      "After adding new sale: [1200, 1500, 980, 2100, 1750, 1300]\n",
      "Total sales: $8830\n",
      "Average sales: $1471.67\n",
      "Maximum sale: $2100\n",
      "Minimum sale: $980\n"
     ]
    }
   ],
   "source": [
    "# Common list operations\n",
    "sales_amounts.append(1300)  # Add to end\n",
    "print(f\"After adding new sale: {sales_amounts}\")\n",
    "\n",
    "total_sales = sum(sales_amounts)\n",
    "average_sales = total_sales / len(sales_amounts)\n",
    "max_sale = max(sales_amounts)\n",
    "min_sale = min(sales_amounts)\n",
    "\n",
    "print(f\"Total sales: ${total_sales}\")\n",
    "print(f\"Average sales: ${average_sales:.2f}\")\n",
    "print(f\"Maximum sale: ${max_sale}\")\n",
    "print(f\"Minimum sale: ${min_sale}\")"
   ]
  },
  {
   "cell_type": "markdown",
   "id": "f1d1e685",
   "metadata": {},
   "source": [
    "## 3. Dictionaries - Key-Value Pairs\n",
    "\n",
    "Dictionaries are like a row in Excel, with column headers as keys."
   ]
  },
  {
   "cell_type": "code",
   "execution_count": 8,
   "id": "cebfffb3",
   "metadata": {},
   "outputs": [
    {
     "name": "stdout",
     "output_type": "stream",
     "text": [
      "{'name': 'Sarah Johnson', 'customer_id': 'CUST0123', 'email': 'sarah.johnson@email.com', 'total_purchases': 15, 'is_premium': True}\n"
     ]
    }
   ],
   "source": [
    "# Creating a dictionary\n",
    "customer = {\n",
    "    \"name\": \"Sarah Johnson\",\n",
    "    \"customer_id\": \"CUST0123\",\n",
    "    \"email\": \"sarah.johnson@email.com\",\n",
    "    \"total_purchases\": 15,\n",
    "    \"is_premium\": True\n",
    "}\n",
    "\n",
    "print(customer)"
   ]
  },
  {
   "cell_type": "code",
   "execution_count": 9,
   "id": "02db3c27",
   "metadata": {},
   "outputs": [
    {
     "name": "stdout",
     "output_type": "stream",
     "text": [
      "Customer name: Sarah Johnson\n",
      "Email: sarah.johnson@email.com\n",
      "Total purchases: 15\n"
     ]
    }
   ],
   "source": [
    "# Accessing dictionary values\n",
    "print(f\"Customer name: {customer['name']}\")\n",
    "print(f\"Email: {customer['email']}\")\n",
    "print(f\"Total purchases: {customer['total_purchases']}\")"
   ]
  },
  {
   "cell_type": "code",
   "execution_count": 10,
   "id": "4d41a390",
   "metadata": {},
   "outputs": [
    {
     "name": "stdout",
     "output_type": "stream",
     "text": [
      "\n",
      "Updated customer:\n",
      "  name: Sarah Johnson\n",
      "  customer_id: CUST0123\n",
      "  email: sarah.johnson@email.com\n",
      "  total_purchases: 16\n",
      "  is_premium: True\n",
      "  phone: 555-1234\n"
     ]
    }
   ],
   "source": [
    "# Adding/updating values\n",
    "customer['phone'] = '555-1234'\n",
    "customer['total_purchases'] = 16  # Update existing value\n",
    "\n",
    "print(\"\\nUpdated customer:\")\n",
    "for key, value in customer.items():\n",
    "    print(f\"  {key}: {value}\")"
   ]
  },
  {
   "cell_type": "markdown",
   "id": "78cd52c3",
   "metadata": {},
   "source": [
    "## 4. Control Flow - If/Else Statements\n",
    "\n",
    "Make decisions in your code based on conditions."
   ]
  },
  {
   "cell_type": "code",
   "execution_count": 11,
   "id": "895c7010",
   "metadata": {},
   "outputs": [
    {
     "name": "stdout",
     "output_type": "stream",
     "text": [
      "Order qualifies for 10% discount!\n",
      "Final amount: $135.00\n"
     ]
    }
   ],
   "source": [
    "# Simple if/else\n",
    "order_amount = 150\n",
    "\n",
    "if order_amount > 100:\n",
    "    discount = 0.10\n",
    "    print(f\"Order qualifies for 10% discount!\")\n",
    "else:\n",
    "    discount = 0\n",
    "    print(f\"Order does not qualify for discount.\")\n",
    "\n",
    "final_amount = order_amount * (1 - discount)\n",
    "print(f\"Final amount: ${final_amount:.2f}\")"
   ]
  },
  {
   "cell_type": "code",
   "execution_count": null,
   "id": "d7280504",
   "metadata": {},
   "outputs": [
    {
     "name": "stdout",
     "output_type": "stream",
     "text": [
      "Score: 85 = Grade: B\n"
     ]
    }
   ],
   "source": [
    "# Multiple conditions with elif\n",
    "score = 85\n",
    "\n",
    "if score >= 90:\n",
    "    grade = \"A\"\n",
    "elif score >= 80:\n",
    "    grade = \"B\"\n",
    "elif score >= 70:\n",
    "    grade = \"C\"\n",
    "elif score >= 60:\n",
    "    grade = \"D\"\n",
    "else:\n",
    "    grade = \"F\"\n",
    "\n",
    "print(f\"Score: {score} = Grade: {grade}\")"
   ]
  },
  {
   "cell_type": "code",
   "execution_count": 13,
   "id": "c9b4e5df",
   "metadata": {},
   "outputs": [
    {
     "name": "stdout",
     "output_type": "stream",
     "text": [
      "✓ Customer can rent a car\n"
     ]
    }
   ],
   "source": [
    "# Complex conditions\n",
    "age = 28\n",
    "has_license = True\n",
    "is_insured = True\n",
    "\n",
    "can_rent_car = age >= 21 and has_license and is_insured\n",
    "\n",
    "if can_rent_car:\n",
    "    print(\"✓ Customer can rent a car\")\n",
    "else:\n",
    "    print(\"✗ Customer cannot rent a car\")"
   ]
  },
  {
   "cell_type": "markdown",
   "id": "873a0697",
   "metadata": {},
   "source": [
    "## 5. Loops - Repeating Actions\n",
    "\n",
    "Loops let you process multiple items efficiently."
   ]
  },
  {
   "cell_type": "code",
   "execution_count": 14,
   "id": "ac3bbfad",
   "metadata": {},
   "outputs": [
    {
     "name": "stdout",
     "output_type": "stream",
     "text": [
      "Products in stock:\n",
      "  - Laptop\n",
      "  - Mouse\n",
      "  - Keyboard\n",
      "  - Monitor\n"
     ]
    }
   ],
   "source": [
    "# For loop - iterate through a list\n",
    "products = [\"Laptop\", \"Mouse\", \"Keyboard\", \"Monitor\"]\n",
    "\n",
    "print(\"Products in stock:\")\n",
    "for product in products:\n",
    "    print(f\"  - {product}\")"
   ]
  },
  {
   "cell_type": "code",
   "execution_count": 15,
   "id": "13072e45",
   "metadata": {},
   "outputs": [
    {
     "name": "stdout",
     "output_type": "stream",
     "text": [
      "Monthly Sales Analysis:\n",
      "  Month 1: $15,000\n",
      "  Month 2: $18,000\n",
      "  Month 3: $16,500\n",
      "  Month 4: $19,200\n",
      "  Month 5: $17,800\n",
      "  Month 6: $20,000\n",
      "\n",
      "Total for 6 months: $106,500\n",
      "Average monthly sales: $17,750.00\n"
     ]
    }
   ],
   "source": [
    "# Loop with calculations\n",
    "monthly_sales = [15000, 18000, 16500, 19200, 17800, 20000]\n",
    "\n",
    "print(\"Monthly Sales Analysis:\")\n",
    "for month, sales in enumerate(monthly_sales, start=1):\n",
    "    print(f\"  Month {month}: ${sales:,}\")\n",
    "\n",
    "print(f\"\\nTotal for 6 months: ${sum(monthly_sales):,}\")\n",
    "print(f\"Average monthly sales: ${sum(monthly_sales)/len(monthly_sales):,.2f}\")"
   ]
  },
  {
   "cell_type": "code",
   "execution_count": 16,
   "id": "b791742b",
   "metadata": {},
   "outputs": [
    {
     "name": "stdout",
     "output_type": "stream",
     "text": [
      "Hot days (>85°F):\n",
      "  Day 4: 95°F\n",
      "  Day 7: 88°F\n"
     ]
    }
   ],
   "source": [
    "# Loop with conditions\n",
    "temperatures = [72, 65, 80, 95, 68, 71, 88]\n",
    "\n",
    "print(\"Hot days (>85°F):\")\n",
    "for i, temp in enumerate(temperatures, start=1):\n",
    "    if temp > 85:\n",
    "        print(f\"  Day {i}: {temp}°F\")"
   ]
  },
  {
   "cell_type": "markdown",
   "id": "23b2c023",
   "metadata": {},
   "source": [
    "## 6. List Comprehensions - Compact Loops\n",
    "\n",
    "A Pythonic way to create new lists from existing ones."
   ]
  },
  {
   "cell_type": "code",
   "execution_count": 17,
   "id": "b69c3020",
   "metadata": {},
   "outputs": [
    {
     "name": "stdout",
     "output_type": "stream",
     "text": [
      "Traditional way: [32.3892, 53.989200000000004, 21.589199999999998, 107.9892, 43.18920000000001]\n"
     ]
    }
   ],
   "source": [
    "# Traditional way\n",
    "prices = [29.99, 49.99, 19.99, 99.99, 39.99]\n",
    "prices_with_tax = []\n",
    "\n",
    "for price in prices:\n",
    "    prices_with_tax.append(price * 1.08)\n",
    "\n",
    "print(\"Traditional way:\", prices_with_tax)"
   ]
  },
  {
   "cell_type": "code",
   "execution_count": 18,
   "id": "52d47d5b",
   "metadata": {},
   "outputs": [
    {
     "name": "stdout",
     "output_type": "stream",
     "text": [
      "List comprehension: [32.3892, 53.989200000000004, 21.589199999999998, 107.9892, 43.18920000000001]\n"
     ]
    }
   ],
   "source": [
    "# List comprehension way (more Pythonic)\n",
    "prices_with_tax = [price * 1.08 for price in prices]\n",
    "print(\"List comprehension:\", prices_with_tax)"
   ]
  },
  {
   "cell_type": "code",
   "execution_count": 19,
   "id": "a8e83068",
   "metadata": {},
   "outputs": [
    {
     "name": "stdout",
     "output_type": "stream",
     "text": [
      "Large sales (≥$200): [250, 450, 520, 300]\n"
     ]
    }
   ],
   "source": [
    "# With conditions\n",
    "sales = [100, 250, 450, 180, 520, 90, 300]\n",
    "large_sales = [sale for sale in sales if sale >= 200]\n",
    "\n",
    "print(\"Large sales (≥$200):\", large_sales)"
   ]
  },
  {
   "cell_type": "markdown",
   "id": "1a0b46f6",
   "metadata": {},
   "source": [
    "## Practice Exercise\n",
    "\n",
    "Let's apply what we've learned!"
   ]
  },
  {
   "cell_type": "code",
   "execution_count": 22,
   "id": "bc797b5c",
   "metadata": {},
   "outputs": [],
   "source": [
    "# Sample sales data for one week\n",
    "weekly_sales = {\n",
    "    'Monday': 1250,\n",
    "    'Tuesday': 1580,\n",
    "    'Wednesday': 1420,\n",
    "    'Thursday': 1890,\n",
    "    'Friday': 2150,\n",
    "    'Saturday': 2400,\n",
    "    'Sunday': 1980\n",
    "}\n",
    "\n",
    "# Task 1: Calculate total weekly sales\n",
    "\n",
    "\n",
    "# Task 2: Calculate average daily sales\n",
    "\n",
    "\n",
    "# Task 3: Find best and worst days\n",
    "\n",
    "\n",
    "# Task 4: Find days above average\n",
    "\n"
   ]
  },
  {
   "cell_type": "code",
   "execution_count": null,
   "id": "1f56c531",
   "metadata": {},
   "outputs": [
    {
     "name": "stdout",
     "output_type": "stream",
     "text": [
      "Total weekly sales: $12,670\n",
      "Average daily sales: $1,810.00\n",
      "Best day: Saturday ($2,400)\n",
      "Worst day: Monday ($1,250)\n",
      "\n",
      "Days above average:\n",
      "  Thursday: $1,890\n",
      "  Friday: $2,150\n",
      "  Saturday: $2,400\n",
      "  Sunday: $1,980\n"
     ]
    }
   ],
   "source": [
    "# Sample sales data for one week\n",
    "weekly_sales = {\n",
    "    'Monday': 1250,\n",
    "    'Tuesday': 1580,\n",
    "    'Wednesday': 1420,\n",
    "    'Thursday': 1890,\n",
    "    'Friday': 2150,\n",
    "    'Saturday': 2400,\n",
    "    'Sunday': 1980\n",
    "}\n",
    "\n",
    "# Task 1: Calculate total weekly sales\n",
    "total = sum(weekly_sales.values())\n",
    "print(f\"Total weekly sales: ${total:,}\")\n",
    "\n",
    "# Task 2: Calculate average daily sales\n",
    "average = total / len(weekly_sales)\n",
    "print(f\"Average daily sales: ${average:,.2f}\")\n",
    "\n",
    "# Task 3: Find best and worst days\n",
    "best_day = max(weekly_sales, key=weekly_sales.get)\n",
    "worst_day = min(weekly_sales, key=weekly_sales.get)\n",
    "print(f\"Best day: {best_day} (${weekly_sales[best_day]:,})\")\n",
    "print(f\"Worst day: {worst_day} (${weekly_sales[worst_day]:,})\")\n",
    "\n",
    "# Task 4: Find days above average\n",
    "print(\"\\nDays above average:\")\n",
    "for day, sales in weekly_sales.items():\n",
    "    if sales > average:\n",
    "        print(f\"  {day}: ${sales:,}\")"
   ]
  },
  {
   "cell_type": "markdown",
   "id": "4ab8d9ab",
   "metadata": {},
   "source": [
    "## Practice Exercise 2: Customer Category Analysis\n",
    "\n",
    "Use list comprehension, if-else statements, and dictionaries to analyze customer data.\n",
    "\n",
    "**Scenario**: You have a list of customers with their purchase amounts. Categorize them and analyze spending patterns.\n",
    "\n",
    "### Customer Categories:\n",
    "- **VIP**: Total purchases ≥ $5000\n",
    "- **Premium**: Total purchases ≥ $2000 and < $5000\n",
    "- **Regular**: Total purchases < $2000\n"
   ]
  },
  {
   "cell_type": "code",
   "execution_count": 23,
   "id": "a8aa7bf5",
   "metadata": {},
   "outputs": [],
   "source": [
    "# Customer data\n",
    "customers = [\n",
    "    {'name': 'Alice Wong', 'customer_id': 'C001', 'total_purchases': 5500, 'country': 'China'},\n",
    "    {'name': 'Bob Chen', 'customer_id': 'C002', 'total_purchases': 1800, 'country': 'China'},\n",
    "    {'name': 'Carol Li', 'customer_id': 'C003', 'total_purchases': 3200, 'country': 'China'},\n",
    "    {'name': 'David Zhang', 'customer_id': 'C004', 'total_purchases': 950, 'country': 'China'},\n",
    "    {'name': 'Emma Wang', 'customer_id': 'C005', 'total_purchases': 7200, 'country': 'USA'},\n",
    "    {'name': 'Frank Liu', 'customer_id': 'C006', 'total_purchases': 2100, 'country': 'China'},\n",
    "]\n",
    "\n",
    "# Task 1: Use list comprehension to create a list of all customer names\n",
    "\n",
    "\n",
    "# Task 2: Use list comprehension with if-else to categorize each customer\n",
    "\n",
    "\n",
    "# Task 3: Use dictionary to count customers in each category\n",
    "\n",
    "\n",
    "# Task 4: Find VIP customers from China using list comprehension\n",
    "\n",
    "\n",
    "# Task 5: Calculate average purchase amount by category\n",
    "\n"
   ]
  },
  {
   "cell_type": "code",
   "execution_count": 25,
   "id": "000e2838",
   "metadata": {},
   "outputs": [
    {
     "name": "stdout",
     "output_type": "stream",
     "text": [
      "All customer names:\n",
      "['Alice Wong', 'Bob Chen', 'Carol Li', 'David Zhang', 'Emma Wang', 'Frank Liu']\n",
      "\n",
      "\n",
      "Customer categories:\n",
      "  Alice Wong: VIP ($5,500)\n",
      "  Bob Chen: Regular ($1,800)\n",
      "  Carol Li: Premium ($3,200)\n",
      "  David Zhang: Regular ($950)\n",
      "  Emma Wang: VIP ($7,200)\n",
      "  Frank Liu: Premium ($2,100)\n",
      "\n",
      "\n",
      "Category distribution:\n",
      "  VIP: 2 customers\n",
      "  Premium: 2 customers\n",
      "  Regular: 2 customers\n",
      "\n",
      "\n",
      "VIP customers from China:\n",
      "  - Alice Wong\n",
      "\n",
      "\n",
      "Average purchases by category:\n",
      "  VIP: $6,350.00\n",
      "  Premium: $2,650.00\n",
      "  Regular: $1,375.00\n"
     ]
    }
   ],
   "source": [
    "# Customer data\n",
    "customers = [\n",
    "    {'name': 'Alice Wong', 'customer_id': 'C001', 'total_purchases': 5500, 'country': 'China'},\n",
    "    {'name': 'Bob Chen', 'customer_id': 'C002', 'total_purchases': 1800, 'country': 'China'},\n",
    "    {'name': 'Carol Li', 'customer_id': 'C003', 'total_purchases': 3200, 'country': 'China'},\n",
    "    {'name': 'David Zhang', 'customer_id': 'C004', 'total_purchases': 950, 'country': 'China'},\n",
    "    {'name': 'Emma Wang', 'customer_id': 'C005', 'total_purchases': 7200, 'country': 'USA'},\n",
    "    {'name': 'Frank Liu', 'customer_id': 'C006', 'total_purchases': 2100, 'country': 'China'},\n",
    "]\n",
    "\n",
    "# Task 1: Use list comprehension to create a list of all customer names\n",
    "customer_names = [customer['name'] for customer in customers]\n",
    "print(\"All customer names:\")\n",
    "print(customer_names)\n",
    "\n",
    "# Task 2: Use list comprehension with if-else to categorize each customer\n",
    "customer_categories = [\n",
    "    {'name': customer['name'], \n",
    "     'category': 'VIP' if customer['total_purchases'] >= 5000 \n",
    "                 else 'Premium' if customer['total_purchases'] >= 2000 \n",
    "                 else 'Regular',\n",
    "     'purchases': customer['total_purchases']}\n",
    "    for customer in customers\n",
    "]\n",
    "\n",
    "print(\"\\n\\nCustomer categories:\")\n",
    "for customer in customer_categories:\n",
    "    print(f\"  {customer['name']}: {customer['category']} (${customer['purchases']:,})\")\n",
    "\n",
    "# Task 3: Use dictionary to count customers in each category\n",
    "category_counts = {'VIP': 0, 'Premium': 0, 'Regular': 0}\n",
    "for customer in customer_categories:\n",
    "    category_counts[customer['category']] += 1\n",
    "\n",
    "print(\"\\n\\nCategory distribution:\")\n",
    "for category, count in category_counts.items():\n",
    "    print(f\"  {category}: {count} customers\")\n",
    "\n",
    "# Task 4: Find VIP customers from China using list comprehension\n",
    "vip_china = [\n",
    "    customer['name'] \n",
    "    for customer in customers \n",
    "    if customer['total_purchases'] >= 5000 and customer['country'] == 'China'\n",
    "]\n",
    "\n",
    "print(\"\\n\\nVIP customers from China:\")\n",
    "for name in vip_china:\n",
    "    print(f\"  - {name}\")\n",
    "\n",
    "# Task 5: Calculate average purchase amount by category\n",
    "category_totals = {'VIP': [], 'Premium': [], 'Regular': []}\n",
    "for customer in customers:\n",
    "    # Determine category using if-else\n",
    "    if customer['total_purchases'] >= 5000:\n",
    "        category = 'VIP'\n",
    "    elif customer['total_purchases'] >= 2000:\n",
    "        category = 'Premium'\n",
    "    else:\n",
    "        category = 'Regular'\n",
    "    category_totals[category].append(customer['total_purchases'])\n",
    "\n",
    "print(\"\\n\\nAverage purchases by category:\")\n",
    "for category, amounts in category_totals.items():\n",
    "    if amounts:\n",
    "        avg = sum(amounts) / len(amounts)\n",
    "        print(f\"  {category}: ${avg:,.2f}\")\n"
   ]
  },
  {
   "cell_type": "markdown",
   "id": "029e4056",
   "metadata": {
    "lines_to_next_cell": 2
   },
   "source": [
    "## Summary\n",
    "\n",
    "In this module, you learned:\n",
    "\n",
    "✓ **Variables and Data Types**: Storing numbers, text, and boolean values  \n",
    "✓ **Lists**: Working with collections of items  \n",
    "✓ **Dictionaries**: Organizing data with key-value pairs  \n",
    "✓ **Control Flow**: Making decisions with if/else statements  \n",
    "✓ **Loops**: Iterating through data efficiently  \n",
    "✓ **List Comprehensions**: Creating lists in a Pythonic way\n",
    "\n",
    "### Key Takeaways for Excel Users\n",
    "\n",
    "- Python variables = Excel named cells\n",
    "- Python lists = Excel columns\n",
    "- Python dictionaries = Excel rows with headers\n",
    "- Python if/else = Excel IF() function\n",
    "- Python loops = Dragging formulas down in Excel (but more powerful!)\n",
    "\n",
    "Next up: **Module 2 - Introduction to Pandas** where we'll work with real datasets!"
   ]
  }
 ],
 "metadata": {
  "jupytext": {
   "cell_metadata_filter": "-all",
   "main_language": "python",
   "notebook_metadata_filter": "-all"
  },
  "kernelspec": {
   "display_name": "venv (3.9.13)",
   "language": "python",
   "name": "python3"
  },
  "language_info": {
   "codemirror_mode": {
    "name": "ipython",
    "version": 3
   },
   "file_extension": ".py",
   "mimetype": "text/x-python",
   "name": "python",
   "nbconvert_exporter": "python",
   "pygments_lexer": "ipython3",
   "version": "3.9.13"
  }
 },
 "nbformat": 4,
 "nbformat_minor": 5
}
