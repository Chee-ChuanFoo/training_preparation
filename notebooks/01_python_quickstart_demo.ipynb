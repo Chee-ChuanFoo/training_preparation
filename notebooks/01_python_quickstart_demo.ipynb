{
 "cells": [
  {
   "cell_type": "code",
   "execution_count": 6,
   "id": "0707c63f",
   "metadata": {},
   "outputs": [
    {
     "name": "stdout",
     "output_type": "stream",
     "text": [
      "Hello\n"
     ]
    }
   ],
   "source": [
    "print(\"Hello\")"
   ]
  },
  {
   "cell_type": "markdown",
   "id": "9a8379e7",
   "metadata": {},
   "source": [
    "# Heading 1"
   ]
  },
  {
   "cell_type": "markdown",
   "id": "3bef72d1",
   "metadata": {},
   "source": [
    "## Heading 2"
   ]
  },
  {
   "cell_type": "code",
   "execution_count": 9,
   "id": "f46dc690",
   "metadata": {},
   "outputs": [],
   "source": [
    "# heading 1\n",
    "# 1\n",
    "# 2\n",
    "# 3\n",
    "# 4"
   ]
  },
  {
   "cell_type": "markdown",
   "id": "6f557219",
   "metadata": {},
   "source": [
    "# Python Basics"
   ]
  },
  {
   "cell_type": "code",
   "execution_count": 17,
   "id": "309eadf4",
   "metadata": {},
   "outputs": [
    {
     "ename": "TypeError",
     "evalue": "can only concatenate str (not \"int\") to str",
     "output_type": "error",
     "traceback": [
      "\u001b[1;31m---------------------------------------------------------------------------\u001b[0m",
      "\u001b[1;31mTypeError\u001b[0m                                 Traceback (most recent call last)",
      "Cell \u001b[1;32mIn[17], line 1\u001b[0m\n\u001b[1;32m----> 1\u001b[0m \u001b[38;5;124;43m\"\u001b[39;49m\u001b[38;5;124;43m1+1\u001b[39;49m\u001b[38;5;124;43m\"\u001b[39;49m\u001b[38;5;241;43m+\u001b[39;49m\u001b[38;5;241;43m2\u001b[39;49m\n",
      "\u001b[1;31mTypeError\u001b[0m: can only concatenate str (not \"int\") to str"
     ]
    }
   ],
   "source": [
    "\"1+1\"+2"
   ]
  },
  {
   "cell_type": "code",
   "execution_count": 15,
   "id": "2bf4cd46",
   "metadata": {},
   "outputs": [
    {
     "data": {
      "text/plain": [
       "\"My dog's name is puppy@#\""
      ]
     },
     "execution_count": 15,
     "metadata": {},
     "output_type": "execute_result"
    }
   ],
   "source": [
    "\"My dog's name is puppy@#\""
   ]
  },
  {
   "cell_type": "code",
   "execution_count": 23,
   "id": "15b39307",
   "metadata": {},
   "outputs": [
    {
     "data": {
      "text/plain": [
       "'How are you?'"
      ]
     },
     "execution_count": 23,
     "metadata": {},
     "output_type": "execute_result"
    }
   ],
   "source": [
    "# object\n",
    "Hello = \"How are you?\"\n",
    "Hello"
   ]
  },
  {
   "cell_type": "code",
   "execution_count": 28,
   "id": "9b970cd2",
   "metadata": {},
   "outputs": [],
   "source": [
    "cat = 1000\n",
    "dog = 50 \n",
    "mouse = cat + dog"
   ]
  },
  {
   "cell_type": "code",
   "execution_count": 29,
   "id": "f25e6c8a",
   "metadata": {},
   "outputs": [
    {
     "data": {
      "text/plain": [
       "1050"
      ]
     },
     "execution_count": 29,
     "metadata": {},
     "output_type": "execute_result"
    }
   ],
   "source": [
    "mouse"
   ]
  },
  {
   "cell_type": "markdown",
   "id": "a83d6927",
   "metadata": {},
   "source": [
    "## 1. Variables and Data Types"
   ]
  },
  {
   "cell_type": "code",
   "execution_count": 44,
   "id": "fa858dc5",
   "metadata": {},
   "outputs": [
    {
     "name": "stdout",
     "output_type": "stream",
     "text": [
      "Quantity: 3\n",
      "Price: $29.99\n",
      "Total: $29.9929.9929.99\n",
      "Type of total: <class 'str'>\n"
     ]
    }
   ],
   "source": [
    "# Numbers (integers and floats)\n",
    "quantity = 3\n",
    "price = \"29.99\"\n",
    "total = quantity * price\n",
    "\n",
    "print(f\"Quantity: {quantity}\")\n",
    "print(f\"Price: ${price}\")\n",
    "print(f\"Total: ${total}\")\n",
    "print(f\"Type of total: {type(total)}\")"
   ]
  },
  {
   "cell_type": "code",
   "execution_count": 35,
   "id": "ed15bd4f",
   "metadata": {},
   "outputs": [
    {
     "name": "stdout",
     "output_type": "stream",
     "text": [
      "quantity: 100  price: 29.99  total: 2999.0\n"
     ]
    }
   ],
   "source": [
    "print(\"quantity:\", quantity,\" price:\", price, \" total:\", total)"
   ]
  },
  {
   "cell_type": "code",
   "execution_count": null,
   "id": "3b2535ea",
   "metadata": {},
   "outputs": [
    {
     "name": "stdout",
     "output_type": "stream",
     "text": [
      "Quantity: 100 for today... and the price is 29.99\n"
     ]
    }
   ],
   "source": [
    "print(f\"Quantity: {quantity} for today... and the price is {price}\")"
   ]
  },
  {
   "cell_type": "code",
   "execution_count": 48,
   "id": "ab27b9de",
   "metadata": {},
   "outputs": [
    {
     "data": {
      "text/plain": [
       "' '"
      ]
     },
     "execution_count": 48,
     "metadata": {},
     "output_type": "execute_result"
    }
   ],
   "source": [
    "# string as an object\n",
    "greeting = \"Hello, World!\"\n",
    "greeting[6]"
   ]
  },
  {
   "cell_type": "markdown",
   "id": "4bba31d6",
   "metadata": {},
   "source": [
    "# Lists"
   ]
  },
  {
   "cell_type": "code",
   "execution_count": 1,
   "id": "a90e8316",
   "metadata": {},
   "outputs": [
    {
     "name": "stdout",
     "output_type": "stream",
     "text": [
      "Sales amounts: [1200, 1500, 980, 2100, 1750]\n",
      "Regions: ['North', 'South', 'East', 'West', 'Central']\n"
     ]
    }
   ],
   "source": [
    "# Creating a list\n",
    "sales_amounts = [1200, 1500, 980, 2100, 1750]\n",
    "regions = [\"North\", \"South\", \"East\", \"West\", \"Central\"]\n",
    "\n",
    "print(\"Sales amounts:\", sales_amounts)\n",
    "print(\"Regions:\", regions)"
   ]
  },
  {
   "cell_type": "code",
   "execution_count": 12,
   "id": "0771e967",
   "metadata": {},
   "outputs": [
    {
     "data": {
      "text/plain": [
       "[1200, 1500, 980, 2100, 1750, 2000]"
      ]
     },
     "execution_count": 12,
     "metadata": {},
     "output_type": "execute_result"
    }
   ],
   "source": [
    "sales_amounts"
   ]
  },
  {
   "cell_type": "code",
   "execution_count": 9,
   "id": "e8eb90a5",
   "metadata": {},
   "outputs": [],
   "source": [
    "sales_amounts.append(2000)"
   ]
  },
  {
   "cell_type": "code",
   "execution_count": 14,
   "id": "042a6e18",
   "metadata": {},
   "outputs": [
    {
     "data": {
      "text/plain": [
       "9530"
      ]
     },
     "execution_count": 14,
     "metadata": {},
     "output_type": "execute_result"
    }
   ],
   "source": [
    "total_sales = sum(sales_amounts)\n",
    "total_sales"
   ]
  },
  {
   "cell_type": "code",
   "execution_count": 15,
   "id": "9c553e19",
   "metadata": {},
   "outputs": [
    {
     "data": {
      "text/plain": [
       "6"
      ]
     },
     "execution_count": 15,
     "metadata": {},
     "output_type": "execute_result"
    }
   ],
   "source": [
    "# length\n",
    "len(sales_amounts)"
   ]
  },
  {
   "cell_type": "code",
   "execution_count": 24,
   "id": "232d7f94",
   "metadata": {},
   "outputs": [
    {
     "data": {
      "text/plain": [
       "1588.3333333333333"
      ]
     },
     "execution_count": 24,
     "metadata": {},
     "output_type": "execute_result"
    }
   ],
   "source": [
    "avg_sales = total_sales / len(sales_amounts)\n",
    "avg_sales"
   ]
  },
  {
   "cell_type": "code",
   "execution_count": 27,
   "id": "d90f144d",
   "metadata": {},
   "outputs": [
    {
     "name": "stdout",
     "output_type": "stream",
     "text": [
      "Average sales: $1588.33\n"
     ]
    }
   ],
   "source": [
    "print(f\"Average sales: ${avg_sales:.2f}\")"
   ]
  },
  {
   "cell_type": "code",
   "execution_count": 29,
   "id": "28e32452",
   "metadata": {},
   "outputs": [
    {
     "data": {
      "text/plain": [
       "'1588.33'"
      ]
     },
     "execution_count": 29,
     "metadata": {},
     "output_type": "execute_result"
    }
   ],
   "source": [
    "f\"{avg_sales:.2f}\""
   ]
  },
  {
   "cell_type": "markdown",
   "id": "82f8f686",
   "metadata": {},
   "source": [
    "# Dictionary"
   ]
  },
  {
   "cell_type": "code",
   "execution_count": null,
   "id": "f651752c",
   "metadata": {},
   "outputs": [
    {
     "name": "stdout",
     "output_type": "stream",
     "text": [
      "Sales amounts: [1200, 1500, 980, 2100, 1750]\n",
      "Regions: ['North', 'South', 'East', 'West', 'Central']\n"
     ]
    }
   ],
   "source": [
    "# Creating a list\n",
    "sales_amounts = [1200, 1500, 980, 2100, 1750]\n",
    "regions = [\"North\", \"South\", \"East\", \"West\", \"Central\"]\n",
    "\n",
    "print(\"Sales amounts:\", sales_amounts)\n",
    "print(\"Regions:\", regions)"
   ]
  },
  {
   "cell_type": "code",
   "execution_count": 31,
   "id": "644f38f2",
   "metadata": {},
   "outputs": [
    {
     "name": "stdout",
     "output_type": "stream",
     "text": [
      "{'name': 'Sarah Johnson', 'customer_id': 'CUST0123', 'email': 'sarah.johnson@email.com', 'total_purchases': 15, 'is_premium': True}\n"
     ]
    }
   ],
   "source": [
    "# Creating a dictionary\n",
    "# key-value pairs\n",
    "customer = {\n",
    "    \"name\": \"Sarah Johnson\",\n",
    "    \"customer_id\": \"CUST0123\",\n",
    "    \"email\": \"sarah.johnson@email.com\",\n",
    "    \"total_purchases\": 15,\n",
    "    \"is_premium\": True\n",
    "}\n",
    "\n",
    "print(customer)"
   ]
  },
  {
   "cell_type": "code",
   "execution_count": 33,
   "id": "9882c9d5",
   "metadata": {},
   "outputs": [
    {
     "data": {
      "text/plain": [
       "1200"
      ]
     },
     "execution_count": 33,
     "metadata": {},
     "output_type": "execute_result"
    }
   ],
   "source": [
    "customer[\"email\"]\n",
    "sales_amounts[0]"
   ]
  },
  {
   "cell_type": "code",
   "execution_count": 34,
   "id": "84de15f1",
   "metadata": {},
   "outputs": [],
   "source": [
    "customer[\"name\"] = \"Foo\""
   ]
  },
  {
   "cell_type": "code",
   "execution_count": 37,
   "id": "56774b79",
   "metadata": {},
   "outputs": [],
   "source": [
    "customer['title'] = \"Ms.\""
   ]
  },
  {
   "cell_type": "code",
   "execution_count": 38,
   "id": "f91123d4",
   "metadata": {},
   "outputs": [
    {
     "data": {
      "text/plain": [
       "{'name': 'Foo',\n",
       " 'customer_id': 'CUST0123',\n",
       " 'email': 'sarah.johnson@email.com',\n",
       " 'total_purchases': 15,\n",
       " 'is_premium': True,\n",
       " 'title': 'Ms.'}"
      ]
     },
     "execution_count": 38,
     "metadata": {},
     "output_type": "execute_result"
    }
   ],
   "source": [
    "customer"
   ]
  },
  {
   "cell_type": "markdown",
   "id": "3e592710",
   "metadata": {},
   "source": [
    "# If...Else"
   ]
  },
  {
   "cell_type": "code",
   "execution_count": null,
   "id": "f7abbb10",
   "metadata": {},
   "outputs": [],
   "source": [
    "# indent\n",
    "# indentation"
   ]
  },
  {
   "cell_type": "code",
   "execution_count": 44,
   "id": "b2eeb3bc",
   "metadata": {},
   "outputs": [
    {
     "name": "stdout",
     "output_type": "stream",
     "text": [
      "Order qualifies for 10% discount!\n"
     ]
    }
   ],
   "source": [
    "# Simple if/else\n",
    "order_amount = 150\n",
    "\n",
    "if order_amount > 100:\n",
    "    discount = 0.1  # 10% discount\n",
    "    print(\"Order qualifies for 10% discount!\")\n",
    "else:\n",
    "    discount = 0\n",
    "    print(\"No discount applied.\")\n",
    "final_amount = order_amount * (1 - discount)\n"
   ]
  },
  {
   "cell_type": "code",
   "execution_count": 47,
   "id": "cb241674",
   "metadata": {},
   "outputs": [
    {
     "name": "stdout",
     "output_type": "stream",
     "text": [
      "Score: 95 = Grade: A\n"
     ]
    }
   ],
   "source": [
    "# Multiple conditions with elif\n",
    "score = 95\n",
    "\n",
    "if score >= 90:\n",
    "    grade = \"A\"\n",
    "elif score >= 80:\n",
    "    grade = \"B\"\n",
    "elif score >= 70:\n",
    "    grade = \"C\"\n",
    "elif score >= 60:\n",
    "    grade = \"D\"\n",
    "else:\n",
    "    grade = \"F\"\n",
    "\n",
    "print(f\"Score: {score} = Grade: {grade}\")"
   ]
  },
  {
   "cell_type": "code",
   "execution_count": 63,
   "id": "79550975",
   "metadata": {},
   "outputs": [
    {
     "data": {
      "text/plain": [
       "True"
      ]
     },
     "execution_count": 63,
     "metadata": {},
     "output_type": "execute_result"
    }
   ],
   "source": [
    "age = 28\n",
    "has_license = True\n",
    "is_insured = True\n",
    "\n",
    "can_rent_car = (age >= 21) and (has_license) and (is_insured)\n",
    "can_rent_car"
   ]
  },
  {
   "cell_type": "code",
   "execution_count": 64,
   "id": "fed2da34",
   "metadata": {},
   "outputs": [
    {
     "name": "stdout",
     "output_type": "stream",
     "text": [
      "Customer can rent a car.\n"
     ]
    }
   ],
   "source": [
    "if age>=21 and has_license and is_insured:\n",
    "    print(\"Customer can rent a car.\")\n",
    "else:\n",
    "    print(\"Customer cannot rent a car.\")"
   ]
  },
  {
   "cell_type": "markdown",
   "id": "e2ed2d17",
   "metadata": {},
   "source": [
    "# Loop"
   ]
  },
  {
   "cell_type": "code",
   "execution_count": 65,
   "id": "84a0f240",
   "metadata": {},
   "outputs": [
    {
     "name": "stdout",
     "output_type": "stream",
     "text": [
      "Product: Laptop\n",
      "Product: Mouse\n",
      "Product: Keyboard\n",
      "Product: Monitor\n"
     ]
    }
   ],
   "source": [
    "products = [\"Laptop\", \"Mouse\", \"Keyboard\", \"Monitor\"]\n",
    "for x in products:\n",
    "    print(f\"Product: {x}\")"
   ]
  },
  {
   "cell_type": "code",
   "execution_count": 69,
   "id": "5e6fb722",
   "metadata": {},
   "outputs": [
    {
     "name": "stdout",
     "output_type": "stream",
     "text": [
      "Number: 10, Squared: 100\n",
      "Number: 20, Squared: 400\n",
      "Number: 30, Squared: 900\n",
      "Number: 40, Squared: 1600\n",
      "  1600 is greater than 1000.\n",
      "Number: 50, Squared: 2500\n",
      "  2500 is greater than 1000.\n"
     ]
    }
   ],
   "source": [
    "numbers = [10, 20, 30, 40, 50]\n",
    "for num in numbers:\n",
    "    squared = num ** 2\n",
    "    print(f\"Number: {num}, Squared: {squared}\")\n",
    "\n",
    "    if squared > 1000:\n",
    "        print(f\"  {squared} is greater than 1000.\")"
   ]
  },
  {
   "cell_type": "code",
   "execution_count": 71,
   "id": "e73888d1",
   "metadata": {},
   "outputs": [
    {
     "ename": "TypeError",
     "evalue": "cannot unpack non-iterable int object",
     "output_type": "error",
     "traceback": [
      "\u001b[1;31m---------------------------------------------------------------------------\u001b[0m",
      "\u001b[1;31mTypeError\u001b[0m                                 Traceback (most recent call last)",
      "Cell \u001b[1;32mIn[71], line 3\u001b[0m\n\u001b[0;32m      1\u001b[0m monthly_sales \u001b[38;5;241m=\u001b[39m [\u001b[38;5;241m15000\u001b[39m, \u001b[38;5;241m18000\u001b[39m, \u001b[38;5;241m16500\u001b[39m, \u001b[38;5;241m19200\u001b[39m, \u001b[38;5;241m17800\u001b[39m, \u001b[38;5;241m20000\u001b[39m]\n\u001b[1;32m----> 3\u001b[0m \u001b[38;5;28;01mfor\u001b[39;00m i, sales \u001b[38;5;129;01min\u001b[39;00m monthly_sales:\n\u001b[0;32m      4\u001b[0m     \u001b[38;5;28mprint\u001b[39m(\u001b[38;5;124mf\u001b[39m\u001b[38;5;124m\"\u001b[39m\u001b[38;5;124mMonth \u001b[39m\u001b[38;5;132;01m{\u001b[39;00mi\u001b[38;5;132;01m}\u001b[39;00m\u001b[38;5;124m: Sales = $\u001b[39m\u001b[38;5;132;01m{\u001b[39;00msales\u001b[38;5;132;01m}\u001b[39;00m\u001b[38;5;124m\"\u001b[39m)\n",
      "\u001b[1;31mTypeError\u001b[0m: cannot unpack non-iterable int object"
     ]
    }
   ],
   "source": [
    "# monthly_sales = [15000, 18000, 16500, 19200, 17800, 20000]\n",
    "\n",
    "# for i, sales in monthly_sales:\n",
    "#     print(f\"Month {i}: Sales = ${sales}\")"
   ]
  },
  {
   "cell_type": "code",
   "execution_count": 73,
   "id": "e3279cfe",
   "metadata": {},
   "outputs": [
    {
     "name": "stdout",
     "output_type": "stream",
     "text": [
      "Month 1: Sales = $15000\n",
      "Month 2: Sales = $18000\n",
      "Month 3: Sales = $16500\n",
      "Month 4: Sales = $19200\n",
      "Month 5: Sales = $17800\n",
      "Month 6: Sales = $20000\n"
     ]
    }
   ],
   "source": [
    "monthly_sales = [15000, 18000, 16500, 19200, 17800, 20000]\n",
    "\n",
    "for i, sales in enumerate(monthly_sales, start=1):\n",
    "    print(f\"Month {i}: Sales = ${sales}\")"
   ]
  },
  {
   "cell_type": "markdown",
   "id": "ecbca768",
   "metadata": {},
   "source": [
    "# List Comprehension"
   ]
  },
  {
   "cell_type": "code",
   "execution_count": 77,
   "id": "d97207fe",
   "metadata": {},
   "outputs": [],
   "source": [
    "# Traditional way\n",
    "prices = [29.99, 49.99, 19.99, 99.99, 39.99]\n",
    "prices_with_tax = []\n",
    "\n",
    "for price in prices:\n",
    "    prices_with_tax.append(price * 1.08)"
   ]
  },
  {
   "cell_type": "code",
   "execution_count": 75,
   "id": "85951d56",
   "metadata": {},
   "outputs": [
    {
     "data": {
      "text/plain": [
       "[29.99, 49.99, 19.99, 99.99, 39.99]"
      ]
     },
     "execution_count": 75,
     "metadata": {},
     "output_type": "execute_result"
    }
   ],
   "source": [
    "prices"
   ]
  },
  {
   "cell_type": "code",
   "execution_count": 80,
   "id": "a8dc2f40",
   "metadata": {},
   "outputs": [
    {
     "data": {
      "text/plain": [
       "[32.39, 53.99, 21.59, 107.99, 43.19]"
      ]
     },
     "execution_count": 80,
     "metadata": {},
     "output_type": "execute_result"
    }
   ],
   "source": [
    "# Option 1: Using list comprehension\n",
    "[round(price, 2) for price in prices_with_tax]"
   ]
  },
  {
   "cell_type": "code",
   "execution_count": 78,
   "id": "6ee81791",
   "metadata": {},
   "outputs": [
    {
     "data": {
      "text/plain": [
       "[32.3892, 53.989200000000004, 21.589199999999998, 107.9892, 43.18920000000001]"
      ]
     },
     "execution_count": 78,
     "metadata": {},
     "output_type": "execute_result"
    }
   ],
   "source": [
    "prices_with_tax_2 = [price * 1.08 for price in prices]\n",
    "prices_with_tax_2"
   ]
  },
  {
   "cell_type": "code",
   "execution_count": 85,
   "id": "1b1f4e72",
   "metadata": {},
   "outputs": [
    {
     "data": {
      "text/plain": [
       "[501, 901, 1041, 601]"
      ]
     },
     "execution_count": 85,
     "metadata": {},
     "output_type": "execute_result"
    }
   ],
   "source": [
    "sales = [100, 250, 450, 180, 520, 90, 300]\n",
    "large_sales = [s*2+1 for s in sales if s > 200]\n",
    "large_sales"
   ]
  },
  {
   "cell_type": "markdown",
   "id": "6780b45e",
   "metadata": {},
   "source": [
    "# Practice Exercise 1"
   ]
  },
  {
   "cell_type": "code",
   "execution_count": 101,
   "id": "49e1b060",
   "metadata": {},
   "outputs": [
    {
     "data": {
      "text/plain": [
       "2400"
      ]
     },
     "execution_count": 101,
     "metadata": {},
     "output_type": "execute_result"
    }
   ],
   "source": [
    "# Sample sales data for one week\n",
    "weekly_sales = {\n",
    "    'Monday': 1250,\n",
    "    'Tuesday': 1580,\n",
    "    'Wednesday': 1420,\n",
    "    'Thursday': 1890,\n",
    "    'Friday': 2150,\n",
    "    'Saturday': 2400,\n",
    "    'Sunday': 1980\n",
    "}\n",
    "\n",
    "# Task 1: Calculate total weekly sales\n",
    "sum(weekly_sales.values())\n",
    "\n",
    "# Task 2: Calculate average daily sales\n",
    "number_of_days = len(weekly_sales)\n",
    "average_sales = total_sales / number_of_days\n",
    "\n",
    "# Task 3: Find best and worst days\n",
    "best_day = max(weekly_sales, key=weekly_sales.get)\n",
    "best_sales = weekly_sales[best_day]\n",
    "best_sales\n",
    "\n",
    "# Task 4: Find days above average\n",
    "above_average_days = [day for day, sales in weekly_sales.items() if sales > average_sales]\n",
    "# print(f\"Task 4: Days with sales above average ({average_sales:.2f}): {', '.join(above_average_days)}\")\n"
   ]
  }
 ],
 "metadata": {
  "kernelspec": {
   "display_name": ".venv (3.9.13)",
   "language": "python",
   "name": "python3"
  },
  "language_info": {
   "codemirror_mode": {
    "name": "ipython",
    "version": 3
   },
   "file_extension": ".py",
   "mimetype": "text/x-python",
   "name": "python",
   "nbconvert_exporter": "python",
   "pygments_lexer": "ipython3",
   "version": "3.9.13"
  }
 },
 "nbformat": 4,
 "nbformat_minor": 5
}
