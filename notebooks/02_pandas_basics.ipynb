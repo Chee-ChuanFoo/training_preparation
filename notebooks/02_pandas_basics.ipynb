{
 "cells": [
  {
   "cell_type": "markdown",
   "id": "96d1422b",
   "metadata": {},
   "source": [
    "# Module 2: Introduction to Pandas\n",
    "\n",
    "Pandas is the most powerful Python library for data analysis. It provides data structures and operations for manipulating numerical tables and time series.\n",
    "\n",
    "## Learning Objectives\n",
    "- Understand DataFrames and Series\n",
    "- Read data from CSV and Excel files\n",
    "- Select and filter data\n",
    "- Sort and explore datasets\n",
    "- Perform basic data analysis"
   ]
  },
  {
   "cell_type": "markdown",
   "id": "f339b527",
   "metadata": {},
   "source": [
    "## 1. Importing Pandas\n",
    "\n",
    "First, we need to import the pandas library. The standard convention is to import it as `pd`."
   ]
  },
  {
   "cell_type": "code",
   "execution_count": 2,
   "id": "9b013f27",
   "metadata": {},
   "outputs": [
    {
     "name": "stdout",
     "output_type": "stream",
     "text": [
      "Pandas version: 2.3.3\n"
     ]
    }
   ],
   "source": [
    "import pandas as pd\n",
    "import numpy as np\n",
    "\n",
    "print(f\"Pandas version: {pd.__version__}\")"
   ]
  },
  {
   "cell_type": "markdown",
   "id": "a3276fc8",
   "metadata": {},
   "source": [
    "## 2. Creating DataFrames\n",
    "\n",
    "A DataFrame is like an Excel spreadsheet - it has rows and columns."
   ]
  },
  {
   "cell_type": "code",
   "execution_count": 3,
   "id": "a306f18d",
   "metadata": {},
   "outputs": [
    {
     "name": "stdout",
     "output_type": "stream",
     "text": [
      "      Product     Category   Price  Stock  Rating\n",
      "0      Laptop  Electronics  999.99     15     4.5\n",
      "1       Mouse  Electronics   24.99    150     4.2\n",
      "2    Keyboard  Electronics   79.99     75     4.7\n",
      "3     Monitor  Electronics  349.99     30     4.4\n",
      "4  Headphones  Electronics  149.99     60     4.6\n"
     ]
    }
   ],
   "source": [
    "# Creating a DataFrame from a dictionary\n",
    "data = {\n",
    "    'Product': ['Laptop', 'Mouse', 'Keyboard', 'Monitor', 'Headphones'],\n",
    "    'Category': ['Electronics', 'Electronics', 'Electronics', 'Electronics', 'Electronics'],\n",
    "    'Price': [999.99, 24.99, 79.99, 349.99, 149.99],\n",
    "    'Stock': [15, 150, 75, 30, 60],\n",
    "    'Rating': [4.5, 4.2, 4.7, 4.4, 4.6]\n",
    "}\n",
    "\n",
    "df = pd.DataFrame(data)\n",
    "print(df)"
   ]
  },
  {
   "cell_type": "code",
   "execution_count": 7,
   "id": "a124a0d8",
   "metadata": {},
   "outputs": [
    {
     "name": "stdout",
     "output_type": "stream",
     "text": [
      "Shape (rows, columns): (5, 5)\n",
      "\n",
      "Column names: ['Product', 'Category', 'Price', 'Stock', 'Rating']\n",
      "\n",
      "Data types: Product      object\n",
      "Category     object\n",
      "Price       float64\n",
      "Stock         int64\n",
      "Rating      float64\n",
      "dtype: object\n"
     ]
    }
   ],
   "source": [
    "print(f\"Shape (rows, columns): {df.shape}\")\n",
    "print(f\"\\nColumn names: {df.columns.tolist()}\")\n",
    "print(f\"\\nData types: {df.dtypes}\")"
   ]
  },
  {
   "cell_type": "markdown",
   "id": "34452c8d",
   "metadata": {},
   "source": [
    "## 3. Reading Data from Files\n",
    "\n",
    "In real work, you'll usually read data from CSV or Excel files."
   ]
  },
  {
   "cell_type": "code",
   "execution_count": null,
   "id": "cdacc0ae",
   "metadata": {},
   "outputs": [],
   "source": [
    "# Read sales data\n",
    "df_sales = pd.read_csv('../datasets/sales_data.csv')\n",
    "\n",
    "print(\"First few rows:\")\n",
    "print(df_sales.head())"
   ]
  },
  {
   "cell_type": "code",
   "execution_count": null,
   "id": "56784c25",
   "metadata": {},
   "outputs": [],
   "source": [
    "# Display basic information\n",
    "print(\"\\nDataset Information:\")\n",
    "print(f\"Number of rows: {len(df_sales)}\")\n",
    "print(f\"Number of columns: {len(df_sales.columns)}\")\n",
    "print(f\"\\nColumn names: {df_sales.columns.tolist()}\")"
   ]
  },
  {
   "cell_type": "code",
   "execution_count": null,
   "id": "ebcf3ccc",
   "metadata": {},
   "outputs": [],
   "source": [
    "# Summary statistics\n",
    "print(\"Statistical Summary:\")\n",
    "print(df_sales.describe())"
   ]
  },
  {
   "cell_type": "markdown",
   "id": "82349103",
   "metadata": {},
   "source": [
    "## 4. Exploring Data\n",
    "\n",
    "Pandas provides many methods to explore your data quickly."
   ]
  },
  {
   "cell_type": "code",
   "execution_count": null,
   "id": "8a13c86f",
   "metadata": {},
   "outputs": [],
   "source": [
    "# View first and last rows\n",
    "print(\"First 5 rows:\")\n",
    "print(df_sales.head())\n",
    "\n",
    "print(\"\\nLast 5 rows:\")\n",
    "print(df_sales.tail())"
   ]
  },
  {
   "cell_type": "code",
   "execution_count": null,
   "id": "f843ab5a",
   "metadata": {},
   "outputs": [],
   "source": [
    "# Get detailed information about the dataset\n",
    "print(\"Detailed Dataset Info:\")\n",
    "df_sales.info()"
   ]
  },
  {
   "cell_type": "code",
   "execution_count": null,
   "id": "f11abcc2",
   "metadata": {},
   "outputs": [],
   "source": [
    "# Check for missing values\n",
    "print(\"Missing values per column:\")\n",
    "print(df_sales.isnull().sum())"
   ]
  },
  {
   "cell_type": "markdown",
   "id": "55cbff3d",
   "metadata": {},
   "source": [
    "## 5. Selecting Columns\n",
    "\n",
    "Select specific columns like choosing columns in Excel."
   ]
  },
  {
   "cell_type": "code",
   "execution_count": null,
   "id": "83f0a5fc",
   "metadata": {},
   "outputs": [],
   "source": [
    "# Select a single column (returns a Series)\n",
    "product_ids = df_sales['product_id']\n",
    "print(\"Product IDs (Series):\")\n",
    "print(product_ids.head())\n",
    "print(f\"\\nType: {type(product_ids)}\")"
   ]
  },
  {
   "cell_type": "code",
   "execution_count": null,
   "id": "d7ecc0bc",
   "metadata": {},
   "outputs": [],
   "source": [
    "# Select multiple columns (returns a DataFrame)\n",
    "sales_subset = df_sales[['date', 'product_id', 'total_amount', 'region']]\n",
    "print(\"Selected columns:\")\n",
    "print(sales_subset.head(10))"
   ]
  },
  {
   "cell_type": "code",
   "execution_count": null,
   "id": "65a8faa2",
   "metadata": {},
   "outputs": [],
   "source": [
    "# Renaming columns for clarity\n",
    "sales_renamed = df_sales.rename(columns={\n",
    "    'total_amount': 'Total_Sales',\n",
    "    'unit_price': 'Price_Per_Unit'\n",
    "})\n",
    "print(sales_renamed.columns.tolist())"
   ]
  },
  {
   "cell_type": "markdown",
   "id": "3faff50f",
   "metadata": {},
   "source": [
    "## 6. Filtering Data\n",
    "\n",
    "Filter rows based on conditions, similar to Excel filters."
   ]
  },
  {
   "cell_type": "code",
   "execution_count": null,
   "id": "d61b9ba9",
   "metadata": {},
   "outputs": [],
   "source": [
    "# Filter: Sales above $1000\n",
    "high_value_sales = df_sales[df_sales['total_amount'] > 1000]\n",
    "print(f\"High value sales (>${1000}): {len(high_value_sales)} transactions\")\n",
    "print(high_value_sales.head())"
   ]
  },
  {
   "cell_type": "code",
   "execution_count": null,
   "id": "a61db86d",
   "metadata": {},
   "outputs": [],
   "source": [
    "# Filter: Sales from specific region\n",
    "north_sales = df_sales[df_sales['region'] == 'North']\n",
    "print(f\"\\nNorth region sales: {len(north_sales)} transactions\")\n",
    "print(north_sales.head())"
   ]
  },
  {
   "cell_type": "code",
   "execution_count": null,
   "id": "f6339d33",
   "metadata": {},
   "outputs": [],
   "source": [
    "# Multiple conditions with & (and)\n",
    "north_high_value = df_sales[\n",
    "    (df_sales['region'] == 'North') & \n",
    "    (df_sales['total_amount'] > 500)\n",
    "]\n",
    "print(f\"\\nNorth region high-value sales: {len(north_high_value)} transactions\")\n",
    "print(north_high_value.head())"
   ]
  },
  {
   "cell_type": "code",
   "execution_count": null,
   "id": "2c2fb7c9",
   "metadata": {},
   "outputs": [],
   "source": [
    "# Multiple conditions with | (or)\n",
    "east_or_west = df_sales[\n",
    "    (df_sales['region'] == 'East') | \n",
    "    (df_sales['region'] == 'West')\n",
    "]\n",
    "print(f\"\\nEast or West sales: {len(east_or_west)} transactions\")"
   ]
  },
  {
   "cell_type": "code",
   "execution_count": null,
   "id": "c891626a",
   "metadata": {},
   "outputs": [],
   "source": [
    "# Using .isin() for multiple values\n",
    "selected_regions = df_sales[df_sales['region'].isin(['North', 'South', 'Central'])]\n",
    "print(f\"\\nSelected regions: {len(selected_regions)} transactions\")"
   ]
  },
  {
   "cell_type": "markdown",
   "id": "58e1e63a",
   "metadata": {},
   "source": [
    "## 7. Sorting Data"
   ]
  },
  {
   "cell_type": "code",
   "execution_count": null,
   "id": "c9dc6f07",
   "metadata": {},
   "outputs": [],
   "source": [
    "# Sort by total_amount (ascending)\n",
    "sorted_asc = df_sales.sort_values('total_amount')\n",
    "print(\"Lowest sales:\")\n",
    "print(sorted_asc[['date', 'product_id', 'total_amount', 'region']].head())"
   ]
  },
  {
   "cell_type": "code",
   "execution_count": null,
   "id": "680a6d50",
   "metadata": {},
   "outputs": [],
   "source": [
    "# Sort by total_amount (descending)\n",
    "sorted_desc = df_sales.sort_values('total_amount', ascending=False)\n",
    "print(\"\\nHighest sales:\")\n",
    "print(sorted_desc[['date', 'product_id', 'total_amount', 'region']].head())"
   ]
  },
  {
   "cell_type": "code",
   "execution_count": null,
   "id": "e3023a5f",
   "metadata": {},
   "outputs": [],
   "source": [
    "# Sort by multiple columns\n",
    "sorted_multi = df_sales.sort_values(['region', 'total_amount'], ascending=[True, False])\n",
    "print(\"\\nSorted by region (A-Z) then by amount (high to low):\")\n",
    "print(sorted_multi[['region', 'total_amount']].head(15))"
   ]
  },
  {
   "cell_type": "markdown",
   "id": "5a46f7e5",
   "metadata": {},
   "source": [
    "## 8. Basic Calculations\n",
    "\n",
    "Perform calculations on columns easily."
   ]
  },
  {
   "cell_type": "code",
   "execution_count": null,
   "id": "458f44ab",
   "metadata": {},
   "outputs": [],
   "source": [
    "# Calculate total sales\n",
    "total_revenue = df_sales['total_amount'].sum()\n",
    "average_sale = df_sales['total_amount'].mean()\n",
    "median_sale = df_sales['total_amount'].median()\n",
    "max_sale = df_sales['total_amount'].max()\n",
    "min_sale = df_sales['total_amount'].min()\n",
    "\n",
    "print(f\"Total Revenue: ${total_revenue:,.2f}\")\n",
    "print(f\"Average Sale: ${average_sale:,.2f}\")\n",
    "print(f\"Median Sale: ${median_sale:,.2f}\")\n",
    "print(f\"Largest Sale: ${max_sale:,.2f}\")\n",
    "print(f\"Smallest Sale: ${min_sale:,.2f}\")"
   ]
  },
  {
   "cell_type": "code",
   "execution_count": null,
   "id": "1bc7fba3",
   "metadata": {},
   "outputs": [],
   "source": [
    "# Count unique values\n",
    "unique_products = df_sales['product_id'].nunique()\n",
    "unique_customers = df_sales['customer_id'].nunique()\n",
    "unique_regions = df_sales['region'].nunique()\n",
    "\n",
    "print(f\"\\nUnique Products: {unique_products}\")\n",
    "print(f\"Unique Customers: {unique_customers}\")\n",
    "print(f\"Unique Regions: {unique_regions}\")"
   ]
  },
  {
   "cell_type": "code",
   "execution_count": null,
   "id": "706b63bb",
   "metadata": {},
   "outputs": [],
   "source": [
    "# Value counts - frequency of each value\n",
    "print(\"\\nSales by Region:\")\n",
    "print(df_sales['region'].value_counts())\n",
    "\n",
    "print(\"\\nSales by Payment Method:\")\n",
    "print(df_sales['payment_method'].value_counts())"
   ]
  },
  {
   "cell_type": "markdown",
   "id": "58430b48",
   "metadata": {},
   "source": [
    "## 9. Adding New Columns\n",
    "\n",
    "Create new columns based on existing data."
   ]
  },
  {
   "cell_type": "code",
   "execution_count": null,
   "id": "151d5ffb",
   "metadata": {
    "lines_to_next_cell": 1
   },
   "outputs": [],
   "source": [
    "# Add a discount column (10% discount)\n",
    "df_sales['discount_10pct'] = df_sales['total_amount'] * 0.10\n",
    "df_sales['amount_after_discount'] = df_sales['total_amount'] - df_sales['discount_10pct']\n",
    "\n",
    "print(df_sales[['total_amount', 'discount_10pct', 'amount_after_discount']].head())"
   ]
  },
  {
   "cell_type": "code",
   "execution_count": null,
   "id": "380c5f35",
   "metadata": {},
   "outputs": [],
   "source": [
    "# Categorize sales as High, Medium, or Low\n",
    "def categorize_sale(amount):\n",
    "    if amount >= 1000:\n",
    "        return 'High'\n",
    "    elif amount >= 500:\n",
    "        return 'Medium'\n",
    "    else:\n",
    "        return 'Low'\n",
    "\n",
    "df_sales['sale_category'] = df_sales['total_amount'].apply(categorize_sale)\n",
    "print(df_sales[['total_amount', 'sale_category']].head(20))"
   ]
  },
  {
   "cell_type": "code",
   "execution_count": null,
   "id": "f9fe96d3",
   "metadata": {},
   "outputs": [],
   "source": [
    "# Count sales by category\n",
    "print(\"\\nSales by category:\")\n",
    "print(df_sales['sale_category'].value_counts())"
   ]
  },
  {
   "cell_type": "markdown",
   "id": "3c5a18bf",
   "metadata": {},
   "source": [
    "## 10. Working with Dates\n",
    "\n",
    "Convert and manipulate date columns."
   ]
  },
  {
   "cell_type": "code",
   "execution_count": null,
   "id": "22b7165b",
   "metadata": {},
   "outputs": [],
   "source": [
    "# Convert date column to datetime\n",
    "df_sales['date'] = pd.to_datetime(df_sales['date'])\n",
    "\n",
    "# Extract date components\n",
    "df_sales['year'] = df_sales['date'].dt.year\n",
    "df_sales['month'] = df_sales['date'].dt.month\n",
    "df_sales['day_of_week'] = df_sales['date'].dt.day_name()\n",
    "\n",
    "print(df_sales[['date', 'year', 'month', 'day_of_week']].head(10))"
   ]
  },
  {
   "cell_type": "code",
   "execution_count": null,
   "id": "38a1cee7",
   "metadata": {},
   "outputs": [],
   "source": [
    "# Sales by month\n",
    "print(\"\\nSales count by month:\")\n",
    "print(df_sales['month'].value_counts().sort_index())\n",
    "\n",
    "print(\"\\nSales by day of week:\")\n",
    "print(df_sales['day_of_week'].value_counts())"
   ]
  },
  {
   "cell_type": "markdown",
   "id": "a87a69d9",
   "metadata": {},
   "source": [
    "## Practice Exercise\n",
    "\n",
    "Load customer data and perform analysis."
   ]
  },
  {
   "cell_type": "code",
   "execution_count": 5,
   "id": "e01d860c",
   "metadata": {},
   "outputs": [
    {
     "name": "stdout",
     "output_type": "stream",
     "text": [
      "Customer Data Preview:\n",
      "  customer_id first_name last_name                     email           phone  \\\n",
      "0    CUST0001      Karen    Garcia     david.davis@email.com  (717) 336-7461   \n",
      "1    CUST0002      Karen     Davis  nancy.gonzalez@email.com  (276) 806-2020   \n",
      "2    CUST0003      David    Taylor   jessica.jones@email.com  (645) 878-3141   \n",
      "3    CUST0004    Richard    Garcia     charles.lee@email.com  (442) 498-5276   \n",
      "4    CUST0005      James     Moore     william.lee@email.com  (522) 602-6345   \n",
      "\n",
      "           city state signup_date customer_segment  total_purchases  \\\n",
      "0   San Antonio    CA  2022-06-06         Standard               38   \n",
      "1   San Antonio    TX  2022-03-10         Standard               14   \n",
      "2  Philadelphia    FL  2022-05-03         Standard                8   \n",
      "3     San Diego    AZ  2022-04-18         Standard               27   \n",
      "4  Philadelphia    PA  2023-03-18         Standard                2   \n",
      "\n",
      "   lifetime_value  \n",
      "0         6490.79  \n",
      "1         1642.16  \n",
      "2         5515.75  \n",
      "3          965.72  \n",
      "4         3835.90  \n",
      "\n",
      "Total customers: 200\n"
     ]
    }
   ],
   "source": [
    "# Load customer data\n",
    "df_customers = pd.read_csv('../datasets/customer_data.csv')\n",
    "\n",
    "print(\"Customer Data Preview:\")\n",
    "print(df_customers.head())\n",
    "print(f\"\\nTotal customers: {len(df_customers)}\")"
   ]
  },
  {
   "cell_type": "code",
   "execution_count": null,
   "id": "68626700",
   "metadata": {},
   "outputs": [],
   "source": [
    "# Exercise 1: Find premium customers\n",
    "premium_customers = df_customers[df_customers['customer_segment'] == 'Premium']\n",
    "print(f\"Premium customers: {len(premium_customers)}\")\n",
    "print(premium_customers[['first_name', 'last_name', 'customer_segment', 'lifetime_value']].head())"
   ]
  },
  {
   "cell_type": "code",
   "execution_count": null,
   "id": "27d7249b",
   "metadata": {},
   "outputs": [],
   "source": [
    "# Exercise 2: Top 10 customers by lifetime value\n",
    "top_customers = df_customers.sort_values('lifetime_value', ascending=False).head(10)\n",
    "print(\"\\nTop 10 customers by lifetime value:\")\n",
    "print(top_customers[['first_name', 'last_name', 'lifetime_value', 'total_purchases']])"
   ]
  },
  {
   "cell_type": "code",
   "execution_count": 6,
   "id": "003a741c",
   "metadata": {},
   "outputs": [
    {
     "name": "stdout",
     "output_type": "stream",
     "text": [
      "\n",
      "Customer statistics by segment:\n",
      "Standard: 101 customers, Avg lifetime value: $5,013.19\n",
      "Premium: 34 customers, Avg lifetime value: $5,202.70\n",
      "Basic: 65 customers, Avg lifetime value: $4,956.41\n"
     ]
    }
   ],
   "source": [
    "# Exercise 3: Customer statistics by segment\n",
    "print(\"\\nCustomer statistics by segment:\")\n",
    "for segment in df_customers['customer_segment'].unique():\n",
    "    segment_data = df_customers[df_customers['customer_segment'] == segment]\n",
    "    avg_value = segment_data['lifetime_value'].mean()\n",
    "    count = len(segment_data)\n",
    "    print(f\"{segment}: {count} customers, Avg lifetime value: ${avg_value:,.2f}\")"
   ]
  },
  {
   "cell_type": "markdown",
   "id": "916370e9",
   "metadata": {
    "lines_to_next_cell": 2
   },
   "source": [
    "## Summary\n",
    "\n",
    "In this module, you learned:\n",
    "\n",
    "✓ **Reading Data**: Load CSV and Excel files into DataFrames  \n",
    "✓ **Exploring Data**: Use head(), tail(), info(), describe()  \n",
    "✓ **Selecting Data**: Choose specific columns  \n",
    "✓ **Filtering Data**: Filter rows based on conditions  \n",
    "✓ **Sorting Data**: Sort by one or multiple columns  \n",
    "✓ **Calculations**: Aggregate functions like sum(), mean(), count()  \n",
    "✓ **Creating Columns**: Add new columns based on calculations  \n",
    "✓ **Working with Dates**: Parse and extract date components\n",
    "\n",
    "### Pandas vs Excel\n",
    "\n",
    "| Excel | Pandas |\n",
    "|-------|--------|\n",
    "| Open file | `pd.read_csv()` or `pd.read_excel()` |\n",
    "| Filter | `df[df['column'] > value]` |\n",
    "| Sort | `df.sort_values('column')` |\n",
    "| SUM() | `df['column'].sum()` |\n",
    "| AVERAGE() | `df['column'].mean()` |\n",
    "| COUNTIF() | `df['column'].value_counts()` |\n",
    "| New column formula | `df['new_col'] = df['col1'] + df['col2']` |\n",
    "\n",
    "Next up: **Module 3 - Data Visualization** where we'll create charts and graphs!"
   ]
  }
 ],
 "metadata": {
  "jupytext": {
   "cell_metadata_filter": "-all",
   "main_language": "python",
   "notebook_metadata_filter": "-all"
  },
  "kernelspec": {
   "display_name": ".venv",
   "language": "python",
   "name": "python3"
  },
  "language_info": {
   "codemirror_mode": {
    "name": "ipython",
    "version": 3
   },
   "file_extension": ".py",
   "mimetype": "text/x-python",
   "name": "python",
   "nbconvert_exporter": "python",
   "pygments_lexer": "ipython3",
   "version": "3.9.5"
  }
 },
 "nbformat": 4,
 "nbformat_minor": 5
}
